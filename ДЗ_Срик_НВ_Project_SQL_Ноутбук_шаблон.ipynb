{
  "cells": [
    {
      "cell_type": "markdown",
      "id": "42289889-bd57-434e-9637-d3e354756316",
      "metadata": {
        "id": "42289889-bd57-434e-9637-d3e354756316"
      },
      "source": [
        "<center> <img src = https://raw.githubusercontent.com/AndreyRysistov/DatasetsForPandas/main/hh%20label.jpg alt=\"drawing\" style=\"width:400px;\">"
      ]
    },
    {
      "cell_type": "markdown",
      "id": "829cb75b-f14e-4ba8-9195-7ba929a7d656",
      "metadata": {
        "id": "829cb75b-f14e-4ba8-9195-7ba929a7d656",
        "tags": []
      },
      "source": [
        "# Проект «Анализ вакансий из HeadHunter»\n",
        "   "
      ]
    },
    {
      "cell_type": "code",
      "execution_count": 7,
      "id": "dccfde33-2452-43fb-a8a5-5c6ebc02a71d",
      "metadata": {
        "id": "dccfde33-2452-43fb-a8a5-5c6ebc02a71d"
      },
      "outputs": [],
      "source": [
        "# импорт необходимых библиотек, требующихся для выполнения всех заданий\n",
        "# выключение предупреждений (предупреждение о том, что pandas поддерживает только SQLAlchemy connectable (engine/connection) или URL-адрес строки базы данных или подключение sqlite3 DBAPI2)\n",
        "\n",
        "import pandas as pd\n",
        "import psycopg2\n",
        "import warnings\n",
        "warnings.filterwarnings('ignore')"
      ]
    },
    {
      "cell_type": "code",
      "execution_count": 9,
      "id": "G4X_q8KBf7SF",
      "metadata": {
        "id": "G4X_q8KBf7SF"
      },
      "outputs": [],
      "source": [
        "connection = psycopg2.connect(\n",
        "    dbname=DBNAME,\n",
        "    user=USER,\n",
        "    host=HOST,\n",
        "    password=PASSWORD,\n",
        "    port=PORT\n",
        ")"
      ]
    },
    {
      "cell_type": "markdown",
      "id": "0dc6476b-7a00-44f1-ac93-6e3baed33a29",
      "metadata": {
        "id": "0dc6476b-7a00-44f1-ac93-6e3baed33a29"
      },
      "source": [
        "## 3. Предварительный анализ данных"
      ]
    },
    {
      "cell_type": "markdown",
      "id": "889782b6-8d1c-410e-8920-e57f27917c64",
      "metadata": {
        "id": "889782b6-8d1c-410e-8920-e57f27917c64"
      },
      "source": [
        "1. Напишите запрос, который посчитает количество вакансий в базе (вакансии находятся в таблице `vacancies`)."
      ]
    },
    {
      "cell_type": "code",
      "execution_count": 10,
      "id": "bc39e68e-ed02-4ee2-9235-7258a2f867a8",
      "metadata": {
        "id": "bc39e68e-ed02-4ee2-9235-7258a2f867a8"
      },
      "outputs": [],
      "source": [
        "# SQL-запрос для подсчета вакансий\n",
        "query_3_1 = f'''SELECT COUNT(*) AS total_vacancies\n",
        "                  FROM vacancies;\n",
        "               '''"
      ]
    },
    {
      "cell_type": "code",
      "execution_count": 11,
      "id": "7mAwtsk4hEHY",
      "metadata": {
        "id": "7mAwtsk4hEHY",
        "colab": {
          "base_uri": "https://localhost:8080/"
        },
        "outputId": "c51d6a4f-e0f8-4c28-b4c2-70f00811d956"
      },
      "outputs": [
        {
          "output_type": "stream",
          "name": "stdout",
          "text": [
            "   total_vacancies\n",
            "0            49197\n"
          ]
        }
      ],
      "source": [
        "# Выполняем запрос и получаем результат в виде DataFrame\n",
        "df_vacancies_count = pd.read_sql_query(query_3_1, connection)\n",
        "\n",
        "# Выводим результат\n",
        "print(df_vacancies_count)"
      ]
    },
    {
      "cell_type": "markdown",
      "id": "b583485d-1f9e-494e-ada4-80ffff7c53d6",
      "metadata": {
        "id": "b583485d-1f9e-494e-ada4-80ffff7c53d6"
      },
      "source": [
        "2. Напишите запрос, который посчитает количество работодателей (таблица `employers`)."
      ]
    },
    {
      "cell_type": "code",
      "execution_count": 12,
      "id": "5408c52c-3407-4a63-b25b-1aafa2322d28",
      "metadata": {
        "id": "5408c52c-3407-4a63-b25b-1aafa2322d28"
      },
      "outputs": [],
      "source": [
        "# SQL-запрос для подсчета работодателей\n",
        "query_3_2 = f'''SELECT COUNT(*) AS total_employers\n",
        "                           FROM employers;'''\n"
      ]
    },
    {
      "cell_type": "code",
      "execution_count": 13,
      "id": "jVL4eshKhdqc",
      "metadata": {
        "id": "jVL4eshKhdqc",
        "colab": {
          "base_uri": "https://localhost:8080/"
        },
        "outputId": "fff8a5db-29a8-4be6-e124-c7a2b89fe558"
      },
      "outputs": [
        {
          "output_type": "stream",
          "name": "stdout",
          "text": [
            "   total_employers\n",
            "0            23501\n"
          ]
        }
      ],
      "source": [
        "# Выполняем запрос и получаем результат в виде DataFrame\n",
        "df_employers_count = pd.read_sql_query(query_3_2, connection)\n",
        "\n",
        "# Выводим результат\n",
        "print(df_employers_count)"
      ]
    },
    {
      "cell_type": "markdown",
      "id": "a2bfff1f-c975-4bf6-84be-2185d79dcb76",
      "metadata": {
        "id": "a2bfff1f-c975-4bf6-84be-2185d79dcb76"
      },
      "source": [
        "3. Посчитайте с помощью запроса количество регионов (таблица `areas`)."
      ]
    },
    {
      "cell_type": "code",
      "execution_count": 14,
      "id": "1m8QJwBYhey6",
      "metadata": {
        "id": "1m8QJwBYhey6"
      },
      "outputs": [],
      "source": [
        "# SQL-запрос для подсчета регионов\n",
        "query_3_3 = f'''SELECT COUNT(*) AS total_areas\n",
        "                       FROM areas;'''"
      ]
    },
    {
      "cell_type": "code",
      "execution_count": 15,
      "id": "EZsn9tlfhe7f",
      "metadata": {
        "id": "EZsn9tlfhe7f",
        "colab": {
          "base_uri": "https://localhost:8080/"
        },
        "outputId": "8cab0e5b-efd0-4033-844b-121bc404f4a4"
      },
      "outputs": [
        {
          "output_type": "stream",
          "name": "stdout",
          "text": [
            "   total_areas\n",
            "0         1362\n"
          ]
        }
      ],
      "source": [
        "# Выполняем запрос и получаем результат в виде DataFrame\n",
        "df_areas_count = pd.read_sql_query(query_3_3, connection)\n",
        "\n",
        "# Выводим результат\n",
        "print(df_areas_count)"
      ]
    },
    {
      "cell_type": "markdown",
      "id": "41bb59f3-53cc-4a67-a5bc-bedf573955e4",
      "metadata": {
        "id": "41bb59f3-53cc-4a67-a5bc-bedf573955e4"
      },
      "source": [
        "4. Посчитайте с помощью запроса количество сфер деятельности в базе (таблица `industries`)."
      ]
    },
    {
      "cell_type": "code",
      "execution_count": 16,
      "id": "d286cf4c-707b-4cd2-9190-7ab3587d04a1",
      "metadata": {
        "id": "d286cf4c-707b-4cd2-9190-7ab3587d04a1"
      },
      "outputs": [],
      "source": [
        "# SQL-запрос для подсчета сфер деятельности\n",
        "query_3_4 = f'''SELECT COUNT(*) AS total_industries\n",
        "                            FROM industries;'''"
      ]
    },
    {
      "cell_type": "code",
      "execution_count": 17,
      "id": "JYAaoZ4qhfzW",
      "metadata": {
        "id": "JYAaoZ4qhfzW",
        "colab": {
          "base_uri": "https://localhost:8080/"
        },
        "outputId": "f7ad8118-9304-446f-b4c4-cea4681a1561"
      },
      "outputs": [
        {
          "output_type": "stream",
          "name": "stdout",
          "text": [
            "   total_industries\n",
            "0               294\n"
          ]
        }
      ],
      "source": [
        "# Выполняем запрос и получаем результат в виде DataFrame\n",
        "df_industries_count = pd.read_sql_query(query_3_4, connection)\n",
        "\n",
        "# Выводим результат\n",
        "print(df_industries_count)"
      ]
    },
    {
      "cell_type": "markdown",
      "source": [
        "##На основе предоставленных данных можно сделать следующие выводы:\n",
        "\n",
        "Общее количество вакансий: 49 197. Это значительное количество вакансий, что может указывать на активный рынок труда и разнообразие предложений по трудоустройству.\n",
        "\n",
        "Количество работодателей: 23 501. Наличие такого количества работодателей свидетельствует о высоком уровне конкуренции среди компаний, предлагающих вакансии. Это также может означать, что существует множество различных отраслей и сфер деятельности.\n",
        "\n",
        "Количество регионов: 1 362. Это указывает на широкое географическое покрытие вакансий. Поскольку вакансии представлены в таком количестве регионов, это дает соискателям возможность выбора и увеличивает вероятность нахождения подходящей работы в их местности.\n",
        "\n",
        "Количество сфер деятельности: 294. Разнообразие сфер деятельности говорит о том, что на рынке существуют вакансии в различных отраслях, что является положительным показателем для соискателей с разными навыками и интересами.\n",
        "\n",
        "Общий вывод:\n",
        "Предоставленные данные указывают на динамичный и разнообразный рынок труда, где имеется множество вакансий от различных работодателей в различных регионах и сферах деятельности. Это создает возможности для соискателей с разным опытом и квалификацией. Однако высокое количество вакансий также может означать, что конкуренция среди соискателей может быть значительной, особенно в популярных сферах."
      ],
      "metadata": {
        "id": "seBjVBj6OnoL"
      },
      "id": "seBjVBj6OnoL"
    },
    {
      "cell_type": "markdown",
      "id": "ed4de9ce",
      "metadata": {
        "id": "ed4de9ce"
      },
      "source": [
        "***"
      ]
    },
    {
      "cell_type": "markdown",
      "id": "8d62a9f3-f64e-4fe7-bdac-c4dffa16155e",
      "metadata": {
        "id": "8d62a9f3-f64e-4fe7-bdac-c4dffa16155e"
      },
      "source": [
        "## 4. Детальный анализ вакансий"
      ]
    },
    {
      "cell_type": "markdown",
      "id": "93053d3d-b284-481a-9cf7-012d7014c0e0",
      "metadata": {
        "id": "93053d3d-b284-481a-9cf7-012d7014c0e0"
      },
      "source": [
        "1. Напишите запрос, который позволит узнать, сколько (`cnt`) вакансий в каждом регионе (`area`).\n",
        "Отсортируйте по количеству вакансий в порядке убывания."
      ]
    },
    {
      "cell_type": "code",
      "execution_count": 18,
      "id": "3f069da6-fdc9-4ae7-b514-fafe2675efd3",
      "metadata": {
        "id": "3f069da6-fdc9-4ae7-b514-fafe2675efd3"
      },
      "outputs": [],
      "source": [
        "# SQL-запрос для подсчета вакансий в каждом регионе\n",
        "query_4_1 = f'''SELECT a.name AS area, COUNT(v.id) AS cnt\n",
        "                                     FROM areas a\n",
        "                                     LEFT JOIN vacancies v ON a.id = v.area_id\n",
        "                                     GROUP BY a.name\n",
        "                                     ORDER BY cnt DESC;'''"
      ]
    },
    {
      "cell_type": "code",
      "execution_count": 20,
      "id": "P7QL86hrjhRJ",
      "metadata": {
        "id": "P7QL86hrjhRJ",
        "colab": {
          "base_uri": "https://localhost:8080/"
        },
        "outputId": "c4af39d4-4362-4b22-f9ed-c8e91575fd84"
      },
      "outputs": [
        {
          "output_type": "stream",
          "name": "stdout",
          "text": [
            "                                   area   cnt\n",
            "0                                Москва  5333\n",
            "1                       Санкт-Петербург  2851\n",
            "2                                 Минск  2112\n",
            "3                           Новосибирск  2006\n",
            "4                                Алматы  1892\n",
            "...                                 ...   ...\n",
            "1357                         Багаевская     0\n",
            "1358                         Пролетарск     0\n",
            "1359                       Седельниково     0\n",
            "1360                             Инской     0\n",
            "1361  Белоярский (Свердловская область)     0\n",
            "\n",
            "[1362 rows x 2 columns]\n"
          ]
        }
      ],
      "source": [
        "#Выполняем запрос и получаем результат в виде DataFrame\n",
        "df_vacancies_count_by_area = pd.read_sql_query(query_4_1, connection)\n",
        "\n",
        "# Выводим результат\n",
        "print(df_vacancies_count_by_area)"
      ]
    },
    {
      "cell_type": "markdown",
      "id": "4266f0b6-1646-492a-88b4-2f6a46502135",
      "metadata": {
        "id": "4266f0b6-1646-492a-88b4-2f6a46502135"
      },
      "source": [
        "2. Напишите запрос, чтобы определить у какого количества вакансий заполнено хотя бы одно из двух полей с зарплатой."
      ]
    },
    {
      "cell_type": "code",
      "execution_count": 21,
      "id": "0c44b350-72eb-4d65-8b54-a1fc449ba9fd",
      "metadata": {
        "id": "0c44b350-72eb-4d65-8b54-a1fc449ba9fd"
      },
      "outputs": [],
      "source": [
        "# SQL-запрос для подсчета вакансий с заполненными полями salary_from или salary_to\n",
        "query_4_2 = f'''SELECT COUNT(*) AS cnt\n",
        "                                  FROM vacancies\n",
        "                                  WHERE salary_from IS NOT NULL OR salary_to IS NOT NULL;'''"
      ]
    },
    {
      "cell_type": "code",
      "execution_count": 22,
      "id": "rhvwaMDkoWTi",
      "metadata": {
        "id": "rhvwaMDkoWTi",
        "colab": {
          "base_uri": "https://localhost:8080/"
        },
        "outputId": "5ab011f0-829f-4a1f-ee5a-290190120781"
      },
      "outputs": [
        {
          "output_type": "stream",
          "name": "stdout",
          "text": [
            "     cnt\n",
            "0  24073\n"
          ]
        }
      ],
      "source": [
        "# Выполняем запрос и получаем результат в виде DataFrame\n",
        "df_vacancies_with_salary = pd.read_sql_query(query_4_2, connection)\n",
        "\n",
        "# Выводим результат\n",
        "print(df_vacancies_with_salary)"
      ]
    },
    {
      "cell_type": "markdown",
      "id": "635c4d5d-f323-4c66-b428-50a088120aa0",
      "metadata": {
        "id": "635c4d5d-f323-4c66-b428-50a088120aa0"
      },
      "source": [
        "3. Найдите средние значения для нижней и верхней границы зарплатной вилки. Округлите значения до **целого числа**."
      ]
    },
    {
      "cell_type": "code",
      "execution_count": 23,
      "id": "603cdbe4-0ec3-4106-8eaf-c73fcdd29165",
      "metadata": {
        "id": "603cdbe4-0ec3-4106-8eaf-c73fcdd29165"
      },
      "outputs": [],
      "source": [
        "# SQL-запрос для нахождения средних значений зарплатной вилки\n",
        "query_4_3 = f'''SELECT\n",
        "                                CAST(AVG(salary_from) AS INT) AS average_salary_from,\n",
        "                                CAST(AVG(salary_to) AS INT) AS average_salary_to\n",
        "                             FROM vacancies\n",
        "                             WHERE salary_from IS NOT NULL OR salary_to IS NOT NULL;'''"
      ]
    },
    {
      "cell_type": "code",
      "execution_count": 24,
      "id": "pswpAb66ovZZ",
      "metadata": {
        "id": "pswpAb66ovZZ",
        "colab": {
          "base_uri": "https://localhost:8080/"
        },
        "outputId": "a9a5c0e0-fbf3-4729-bc66-addac87943fc"
      },
      "outputs": [
        {
          "output_type": "stream",
          "name": "stdout",
          "text": [
            "   average_salary_from  average_salary_to\n",
            "0                71065             110537\n"
          ]
        }
      ],
      "source": [
        "# Выполняем запрос и получаем результат в виде DataFrame\n",
        "df_average_salaries = pd.read_sql_query(query_4_3, connection)\n",
        "\n",
        "# Выводим результат\n",
        "print(df_average_salaries)"
      ]
    },
    {
      "cell_type": "markdown",
      "id": "f3fdaec9-5fd3-4260-9cf5-1d7406b628a5",
      "metadata": {
        "id": "f3fdaec9-5fd3-4260-9cf5-1d7406b628a5"
      },
      "source": [
        "4. Напишите запрос, который выведет количество вакансий для каждого сочетания типа рабочего графика (`schedule`) и типа трудоустройства (`employment`), используемого в вакансиях. Результат отсортируйте по убыванию количества.\n"
      ]
    },
    {
      "cell_type": "code",
      "execution_count": 32,
      "id": "1ea710ec-871b-431e-9462-c7d0fd87011b",
      "metadata": {
        "id": "1ea710ec-871b-431e-9462-c7d0fd87011b"
      },
      "outputs": [],
      "source": [
        "# SQL-запрос для подсчета количества вакансий по типам рабочего графика и трудоустройства\n",
        "query_4_4 = f'''SELECT\n",
        "                    schedule,\n",
        "                    employment,\n",
        "                    COUNT(*) AS vacancy_count\n",
        "                FROM vacancies\n",
        "                GROUP BY schedule, employment\n",
        "                ORDER BY vacancy_count DESC;'''"
      ]
    },
    {
      "cell_type": "code",
      "execution_count": 33,
      "id": "lGUVqavdo4JQ",
      "metadata": {
        "id": "lGUVqavdo4JQ",
        "colab": {
          "base_uri": "https://localhost:8080/"
        },
        "outputId": "f3bff2d6-46fe-46e5-df3d-15041f51ff9d"
      },
      "outputs": [
        {
          "output_type": "stream",
          "name": "stdout",
          "text": [
            "            schedule           employment  vacancy_count\n",
            "0        Полный день     Полная занятость          35367\n",
            "1   Удаленная работа     Полная занятость           7802\n",
            "2      Гибкий график     Полная занятость           1593\n",
            "3   Удаленная работа  Частичная занятость           1312\n",
            "4     Сменный график     Полная занятость            940\n",
            "5        Полный день           Стажировка            569\n",
            "6     Вахтовый метод     Полная занятость            367\n",
            "7        Полный день  Частичная занятость            347\n",
            "8      Гибкий график  Частичная занятость            312\n",
            "9        Полный день     Проектная работа            141\n",
            "10  Удаленная работа     Проектная работа            133\n",
            "11     Гибкий график           Стажировка            116\n",
            "12    Сменный график  Частичная занятость            101\n",
            "13  Удаленная работа           Стажировка             64\n",
            "14     Гибкий график     Проектная работа             18\n",
            "15    Сменный график           Стажировка             12\n",
            "16    Вахтовый метод     Проектная работа              2\n",
            "17    Сменный график     Проектная работа              1\n"
          ]
        }
      ],
      "source": [
        "# Выполняем запрос и получаем результат в виде DataFrame\n",
        "df_vacancies_by_schedule_and_employment = pd.read_sql_query(query_4_4, connection)\n",
        "\n",
        "# Выводим результат\n",
        "print(df_vacancies_by_schedule_and_employment)"
      ]
    },
    {
      "cell_type": "markdown",
      "id": "0136ffee-0ead-4a6b-b608-61d1c753a438",
      "metadata": {
        "id": "0136ffee-0ead-4a6b-b608-61d1c753a438"
      },
      "source": [
        "5. Напишите запрос, выводящий значения поля «Требуемый опыт работы» (`experience`) в порядке возрастания количества вакансий, в которых указан данный вариант опыта."
      ]
    },
    {
      "cell_type": "code",
      "execution_count": 34,
      "id": "5b3a8e79-f7ab-4008-b767-12aea3a205ea",
      "metadata": {
        "id": "5b3a8e79-f7ab-4008-b767-12aea3a205ea"
      },
      "outputs": [],
      "source": [
        "# SQL-запрос для получения значений \"Требуемый опыт работы\" с подсчетом количества вакансий\n",
        "query_4_5 = f'''SELECT\n",
        "                  experience,\n",
        "                  COUNT(*) AS vacancy_count\n",
        "                FROM vacancies\n",
        "                WHERE experience IS NOT NULL\n",
        "                GROUP BY experience\n",
        "                ORDER BY vacancy_count ASC;'''"
      ]
    },
    {
      "cell_type": "code",
      "execution_count": 35,
      "id": "3Is64Y-hpDpq",
      "metadata": {
        "id": "3Is64Y-hpDpq",
        "colab": {
          "base_uri": "https://localhost:8080/"
        },
        "outputId": "49d43891-b853-488e-d8f1-5df58a07ded2"
      },
      "outputs": [
        {
          "output_type": "stream",
          "name": "stdout",
          "text": [
            "           experience  vacancy_count\n",
            "0         Более 6 лет           1337\n",
            "1           Нет опыта           7197\n",
            "2       От 3 до 6 лет          14511\n",
            "3  От 1 года до 3 лет          26152\n"
          ]
        }
      ],
      "source": [
        "# Выполняем запрос и получаем результат в виде DataFrame\n",
        "df_experience_count = pd.read_sql_query(query_4_5, connection)\n",
        "\n",
        "# Выводим результат\n",
        "print(df_experience_count)"
      ]
    },
    {
      "cell_type": "markdown",
      "source": [
        "##Выводы по детальному анализу вакансий\n",
        "\n",
        "1. Географическое распределение вакансий:\n",
        "\n",
        "Наибольшее количество вакансий сосредоточено в крупных городах. Москва (5333 вакансии) и Санкт-Петербург (2851 вакансия) лидируют по количеству предложений, что указывает на концентрацию рабочей силы и высокую активность рынка труда в этих регионах.\n",
        "Другие города, такие как Минск (2112 вакансий) и Новосибирск (2006 вакансий), также демонстрируют значительное количество вакансий, однако их объемы значительно ниже, чем в столицах.\n",
        "\n",
        "2. Зарплатные вилки:\n",
        "\n",
        "Средняя нижняя граница зарплатной вилки составляет 71,065 рублей, в то время как верхняя граница — 110,537 рублей. Это указывает на наличие значительного диапазона зарплат, что может быть связано с различиями в опыте работы, квалификации и отрасли.\n",
        "\n",
        "3. Тип рабочего графика и тип трудоустройства:\n",
        "\n",
        "Наиболее популярными являются вакансии с полным рабочим днем и полной занятостью (35,367 вакансий). Это говорит о предпочтении работодателей к стандартным условиям труда.\n",
        "Удаленная работа также востребована, с 7,802 вакансиями на полную занятость и 1,312 на частичную занятость, что отражает нарастающую тенденцию к гибкости в условиях труда.\n",
        "Гибкий график и вахтовый метод также присутствуют, хотя их количество значительно меньше, что может свидетельствовать о специфических требованиях в определенных сферах.\n",
        "\n",
        "4. Требуемый опыт работы:\n",
        "\n",
        "Вакансии, требующие от 1 года до 3 лет опыта, составляют наибольшую долю (26,152 вакансий), что может указывать на высокий спрос на специалистов, имеющих некоторый опыт.\n",
        "Вакансии для кандидатов без опыта (7,197 вакансий) также имеют значительное представительство, что может говорить о наличии программ стажировок или начальных позиций.\n",
        "Вакансии для более опытных специалистов (от 3 до 6 лет и более 6 лет) менее распространены (14,511 и 1,337 соответственно), что может указывать на недостаток таких специалистов на рынке.\n",
        "\n",
        "Заключение\n",
        "\n",
        "Общий анализ вакансий показывает, что рынок труда в крупных городах активно развивается, с акцентом на полную занятость и стандартные условия работы. Тем не менее, наблюдается растущий интерес к удаленной работе. Важно также отметить, что высокий спрос на специалистов с 1-3 годами опыта может указывать на потребность компаний в квалифицированных кадрах, в то время как наличие вакансий для безопытных соискателей открывает возможности для начинающих специалистов."
      ],
      "metadata": {
        "id": "xaZbVtq7TNou"
      },
      "id": "xaZbVtq7TNou"
    },
    {
      "cell_type": "markdown",
      "id": "oq2b7n1QpIka",
      "metadata": {
        "id": "oq2b7n1QpIka"
      },
      "source": [
        "***"
      ]
    },
    {
      "cell_type": "markdown",
      "id": "7ea20ab6-04a7-40a0-adec-443a0e5a42c3",
      "metadata": {
        "id": "7ea20ab6-04a7-40a0-adec-443a0e5a42c3"
      },
      "source": [
        "## 5. Анализ работодателей"
      ]
    },
    {
      "cell_type": "markdown",
      "id": "968aed80-74ef-4ffb-b5bf-c65b84e9caea",
      "metadata": {
        "id": "968aed80-74ef-4ffb-b5bf-c65b84e9caea"
      },
      "source": [
        "1. Напишите запрос, который позволит узнать, какие работодатели находятся на первом и пятом месте по количеству вакансий."
      ]
    },
    {
      "cell_type": "code",
      "execution_count": 36,
      "id": "f2d62796-d400-4ec1-a675-88112739a50e",
      "metadata": {
        "id": "f2d62796-d400-4ec1-a675-88112739a50e"
      },
      "outputs": [],
      "source": [
        "# SQL-запрос для получения первых пяти работодателей по количеству вакансий\n",
        "query_5_1 = f'''SELECT\n",
        "                  employers.id,\n",
        "                  employers.name,\n",
        "                  COUNT(vacancies.id) AS vacancy_count\n",
        "                FROM\n",
        "                  employers\n",
        "                LEFT JOIN\n",
        "                  vacancies ON employers.id = vacancies.employer_id\n",
        "                GROUP BY\n",
        "                  employers.id, employers.name\n",
        "                ORDER BY\n",
        "                  vacancy_count DESC\n",
        "                LIMIT 5;'''"
      ]
    },
    {
      "cell_type": "code",
      "execution_count": 37,
      "id": "64tOMkAxqkQk",
      "metadata": {
        "id": "64tOMkAxqkQk",
        "colab": {
          "base_uri": "https://localhost:8080/"
        },
        "outputId": "84163db8-9c6d-4038-d559-48597234a826"
      },
      "outputs": [
        {
          "output_type": "stream",
          "name": "stdout",
          "text": [
            "Первый работодатель:\n",
            "id                 1740\n",
            "name             Яндекс\n",
            "vacancy_count      1933\n",
            "Name: 0, dtype: object\n",
            "\n",
            "Пятый работодатель:\n",
            "id                       39305\n",
            "name             Газпром нефть\n",
            "vacancy_count              331\n",
            "Name: 4, dtype: object\n"
          ]
        }
      ],
      "source": [
        "# Выполняем запрос и получаем результат в виде DataFrame\n",
        "df_top_employers = pd.read_sql_query(query_5_1, connection)\n",
        "\n",
        "# Выводим первый и пятый места\n",
        "first_employer = df_top_employers.iloc[0]\n",
        "fifth_employer = df_top_employers.iloc[4]\n",
        "\n",
        "print(\"Первый работодатель:\")\n",
        "print(first_employer)\n",
        "\n",
        "print(\"\\nПятый работодатель:\")\n",
        "print(fifth_employer)"
      ]
    },
    {
      "cell_type": "markdown",
      "id": "68377cfc-b378-43dc-ab7d-1195abf2c515",
      "metadata": {
        "id": "68377cfc-b378-43dc-ab7d-1195abf2c515"
      },
      "source": [
        "2. Напишите запрос, который для каждого региона выведет количество работодателей и вакансий в нём.\n",
        "Среди регионов, в которых нет вакансий, найдите тот, в котором наибольшее количество работодателей.\n"
      ]
    },
    {
      "cell_type": "code",
      "execution_count": 39,
      "id": "dd7df27a-e3e8-412e-a21a-5d389b71e891",
      "metadata": {
        "id": "dd7df27a-e3e8-412e-a21a-5d389b71e891",
        "colab": {
          "base_uri": "https://localhost:8080/"
        },
        "outputId": "eff65a74-79dc-4430-a2e5-02b6834430f9"
      },
      "outputs": [
        {
          "output_type": "stream",
          "name": "stdout",
          "text": [
            "Количество работодателей и вакансий для каждого региона:\n",
            "                            region  employers_cnt  vacancies_cnt\n",
            "0                           Абакан             13            481\n",
            "1                             Абан              0              1\n",
            "2                         Абатское              0              0\n",
            "3                         Абдулино              0              1\n",
            "4                           Абинск              2             12\n",
            "...                            ...            ...            ...\n",
            "1357                        Ярцево              0              2\n",
            "1358                     Ясногорск              0              2\n",
            "1359  Ясный (Оренбургская область)              0              0\n",
            "1360                        Яшкино              0              0\n",
            "1361                            Яя              0              1\n",
            "\n",
            "[1362 rows x 3 columns]\n"
          ]
        }
      ],
      "source": [
        "# Запрос для получения количества работодателей и вакансий для каждого региона\n",
        "query_5_2 = f'''\n",
        "SELECT\n",
        "    t_a.name AS region,\n",
        "    COUNT(DISTINCT t_e.id) AS employers_cnt,\n",
        "    COUNT(t_v.id) AS vacancies_cnt\n",
        "FROM\n",
        "    areas AS t_a\n",
        "LEFT JOIN\n",
        "    employers AS t_e ON t_a.id = t_e.area\n",
        "LEFT JOIN\n",
        "    vacancies AS t_v ON t_v.area_id = t_a.id\n",
        "GROUP BY\n",
        "    t_a.id, t_a.name\n",
        "ORDER BY\n",
        "    t_a.name;\n",
        "'''\n",
        "\n",
        "# Выполняем запрос и получаем результаты для всех регионов\n",
        "df_all_regions = pd.read_sql_query(query_5_2, connection)\n",
        "\n",
        "# Печатаем результаты для всех регионов\n",
        "print(\"Количество работодателей и вакансий для каждого региона:\")\n",
        "print(df_all_regions)\n",
        "\n",
        "# Запрос для нахождения региона с наибольшим количеством работодателей среди тех, где нет вакансий\n",
        "query_5_2_1 = f'''\n",
        "SELECT\n",
        "    t_a.name AS region,\n",
        "    COUNT(DISTINCT t_e.id) AS employers_cnt\n",
        "FROM\n",
        "    areas AS t_a\n",
        "LEFT JOIN\n",
        "    employers AS t_e ON t_a.id = t_e.area\n",
        "LEFT JOIN\n",
        "    vacancies AS t_v ON t_v.area_id = t_a.id\n",
        "GROUP BY\n",
        "    t_a.id, t_a.name\n",
        "HAVING\n",
        "    COUNT(t_v.id) = 0\n",
        "ORDER BY\n",
        "    employers_cnt DESC\n",
        "LIMIT 1;\n",
        "'''"
      ]
    },
    {
      "cell_type": "code",
      "execution_count": 43,
      "id": "x1ikWbydrbf6",
      "metadata": {
        "id": "x1ikWbydrbf6",
        "colab": {
          "base_uri": "https://localhost:8080/"
        },
        "outputId": "e22f6701-c2b3-455b-f23b-ae469053c94b"
      },
      "outputs": [
        {
          "output_type": "stream",
          "name": "stdout",
          "text": [
            "\n",
            "Регион с наибольшим количеством работодателей без вакансий:\n",
            "   region  employers_cnt\n",
            "0  Россия            410\n"
          ]
        }
      ],
      "source": [
        "# Выполняем запрос и получаем результаты для региона без вакансий\n",
        "df_top_region_no_vacancies = pd.read_sql_query(query_5_2_1, connection)\n",
        "\n",
        "# Печатаем результаты для региона без вакансий\n",
        "print(\"\\nРегион с наибольшим количеством работодателей без вакансий:\")\n",
        "print(df_top_region_no_vacancies)"
      ]
    },
    {
      "cell_type": "markdown",
      "id": "f2fe0acb-ab1a-4e15-9326-2560e22d73c1",
      "metadata": {
        "id": "f2fe0acb-ab1a-4e15-9326-2560e22d73c1"
      },
      "source": [
        "3. Для каждого работодателя посчитайте количество регионов, в которых он публикует свои вакансии. Отсортируйте результат по убыванию количества.\n"
      ]
    },
    {
      "cell_type": "code",
      "execution_count": 44,
      "id": "6271f8ad-bd2e-4196-ae4a-5b39c4c1010e",
      "metadata": {
        "id": "6271f8ad-bd2e-4196-ae4a-5b39c4c1010e"
      },
      "outputs": [],
      "source": [
        "# Запрос для подсчета количества регионов для каждого работодателя\n",
        "query_5_3 = f'''\n",
        "SELECT\n",
        "    t_e.id AS employer_id,\n",
        "    t_e.name AS employer_name,\n",
        "    COUNT(DISTINCT t_v.area_id) AS region_count\n",
        "FROM\n",
        "    employers AS t_e\n",
        "LEFT JOIN\n",
        "    vacancies AS t_v ON t_e.id = t_v.employer_id\n",
        "GROUP BY\n",
        "    t_e.id, t_e.name\n",
        "ORDER BY\n",
        "    region_count DESC;\n",
        "'''"
      ]
    },
    {
      "cell_type": "code",
      "execution_count": 45,
      "id": "1EIvX3HasH4F",
      "metadata": {
        "id": "1EIvX3HasH4F",
        "colab": {
          "base_uri": "https://localhost:8080/"
        },
        "outputId": "32ba717d-350d-4657-c709-8d07447a3dca"
      },
      "outputs": [
        {
          "output_type": "stream",
          "name": "stdout",
          "text": [
            "Количество регионов, в которых каждый работодатель публикует свои вакансии:\n",
            "       employer_id           employer_name  region_count\n",
            "0             1740                  Яндекс           181\n",
            "1             2748              Ростелеком           152\n",
            "2          5724811              Спецремонт           116\n",
            "3          5130287  Поляков Денис Иванович            88\n",
            "4          3682876               ООО ЕФИН             71\n",
            "...            ...                     ...           ...\n",
            "23496      5287515              Но Смокинг             0\n",
            "23497      2839354        МАСТЕРСКАЯ CREED             0\n",
            "23498      5774578           Dzing Finance             0\n",
            "23499      5775069                    КОРС             0\n",
            "23500           15             Наука-Связь             0\n",
            "\n",
            "[23501 rows x 3 columns]\n"
          ]
        }
      ],
      "source": [
        "# Выполняем запрос и получаем результаты\n",
        "df_employer_region_count = pd.read_sql_query(query_5_3, connection)\n",
        "\n",
        "# Печатаем результаты\n",
        "print(\"Количество регионов, в которых каждый работодатель публикует свои вакансии:\")\n",
        "print(df_employer_region_count)"
      ]
    },
    {
      "cell_type": "markdown",
      "id": "eab2206d-d95b-468b-8e5f-34381abf0ce7",
      "metadata": {
        "id": "eab2206d-d95b-468b-8e5f-34381abf0ce7"
      },
      "source": [
        "4. Напишите запрос для подсчёта количества работодателей, у которых не указана сфера деятельности."
      ]
    },
    {
      "cell_type": "code",
      "execution_count": 46,
      "id": "80defb23-bfb1-4a18-8be6-bf36aa7165d5",
      "metadata": {
        "id": "80defb23-bfb1-4a18-8be6-bf36aa7165d5"
      },
      "outputs": [],
      "source": [
        "# Запрос для подсчета количества работодателей без указанной сферы деятельности\n",
        "query_5_4 = f'''\n",
        "SELECT\n",
        "    COUNT(DISTINCT e.id) AS employer_count\n",
        "FROM\n",
        "    employers AS e\n",
        "LEFT JOIN\n",
        "    employers_industries AS ei ON e.id = ei.employer_id  -- Соединяем по employer_id\n",
        "WHERE\n",
        "    ei.industry_id IS NULL;  -- Условие для выбора работодателей без указанной сферы деятельности\n",
        "'''"
      ]
    },
    {
      "cell_type": "code",
      "execution_count": 47,
      "id": "Dp_yCx6ysQSu",
      "metadata": {
        "id": "Dp_yCx6ysQSu",
        "colab": {
          "base_uri": "https://localhost:8080/"
        },
        "outputId": "59357e5d-36c0-4501-ae9e-77bf355523a5"
      },
      "outputs": [
        {
          "output_type": "stream",
          "name": "stdout",
          "text": [
            "Количество работодателей, у которых не указана сфера деятельности:\n",
            "   employer_count\n",
            "0            8419\n"
          ]
        }
      ],
      "source": [
        "# Выполняем запрос и получаем результат\n",
        "df_employer_without_industry = pd.read_sql_query(query_5_4, connection)\n",
        "\n",
        "# Печатаем результат\n",
        "print(\"Количество работодателей, у которых не указана сфера деятельности:\")\n",
        "print(df_employer_without_industry)"
      ]
    },
    {
      "cell_type": "markdown",
      "id": "0112af31-f6b0-4e3b-82ab-71296e752e5e",
      "metadata": {
        "id": "0112af31-f6b0-4e3b-82ab-71296e752e5e"
      },
      "source": [
        "5. Напишите запрос, чтобы узнать название компании, находящейся на третьем месте в алфавитном списке (по названию) компаний, у которых указано четыре сферы деятельности."
      ]
    },
    {
      "cell_type": "code",
      "execution_count": 48,
      "id": "973b0cfc-a972-470a-8b4a-68744ef220c4",
      "metadata": {
        "id": "973b0cfc-a972-470a-8b4a-68744ef220c4"
      },
      "outputs": [],
      "source": [
        "# Запрос для получения названия компании, находящейся на третьем месте в алфавитном списке\n",
        "query_5_5 = f'''\n",
        "SELECT\n",
        "    e.name  -- Предполагая, что поле с названием компании называется 'name'\n",
        "FROM\n",
        "    employers AS e\n",
        "JOIN\n",
        "    employers_industries AS ei ON e.id = ei.employer_id  -- Соединение по employer_id\n",
        "GROUP BY\n",
        "    e.id, e.name  -- Группируем по идентификатору и названию компании\n",
        "HAVING\n",
        "    COUNT(ei.industry_id) = 4  -- Условие для выбора только компаний с четырьмя сферами деятельности\n",
        "ORDER BY\n",
        "    e.name  -- Сортируем по названию компании в алфавитном порядке\n",
        "LIMIT 1 OFFSET 2;  -- Пропускаем два первых результата и берем третий\n",
        "'''"
      ]
    },
    {
      "cell_type": "code",
      "execution_count": 49,
      "id": "xsPtpp8EsaED",
      "metadata": {
        "id": "xsPtpp8EsaED",
        "colab": {
          "base_uri": "https://localhost:8080/"
        },
        "outputId": "a1c1dd62-9452-4643-e16d-85efbf8dbbb6"
      },
      "outputs": [
        {
          "output_type": "stream",
          "name": "stdout",
          "text": [
            "Название компании, находящейся на третьем месте в алфавитном списке:\n",
            "   name\n",
            "0  2ГИС\n"
          ]
        }
      ],
      "source": [
        "# Выполняем запрос и получаем результат\n",
        "df_third_company = pd.read_sql_query(query_5_5, connection)\n",
        "\n",
        "# Печатаем результат\n",
        "print(\"Название компании, находящейся на третьем месте в алфавитном списке:\")\n",
        "print(df_third_company)"
      ]
    },
    {
      "cell_type": "markdown",
      "id": "3bfcfdaf-755d-4d2b-8ed8-326201dc07ab",
      "metadata": {
        "id": "3bfcfdaf-755d-4d2b-8ed8-326201dc07ab"
      },
      "source": [
        "6. С помощью запроса выясните, у какого количества работодателей в качестве сферы деятельности указана «Разработка программного обеспечения».\n"
      ]
    },
    {
      "cell_type": "code",
      "execution_count": 50,
      "id": "ad3f270f-2991-47eb-929b-e8f88a55b0d1",
      "metadata": {
        "id": "ad3f270f-2991-47eb-929b-e8f88a55b0d1"
      },
      "outputs": [],
      "source": [
        "# Запрос для подсчета количества работодателей\n",
        "query_5_6 = f'''SELECT\n",
        "    COUNT(DISTINCT ei.employer_id) AS employer_count  -- Подсчитываем уникальных работодателей\n",
        "FROM\n",
        "    employers_industries AS ei\n",
        "JOIN\n",
        "    industries AS i ON ei.industry_id = i.id  -- Объединяем таблицы по industry_id\n",
        "WHERE\n",
        "    i.name = 'Разработка программного обеспечения';  -- Условие для выбора нужной сферы деятельности\n",
        "'''"
      ]
    },
    {
      "cell_type": "code",
      "execution_count": 51,
      "id": "H72qxWM0shPR",
      "metadata": {
        "id": "H72qxWM0shPR",
        "colab": {
          "base_uri": "https://localhost:8080/"
        },
        "outputId": "d6c62541-cfc3-4c6a-cca7-36b50cfb48fd"
      },
      "outputs": [
        {
          "output_type": "stream",
          "name": "stdout",
          "text": [
            "Количество работодателей с указанной сферой деятельности 'Разработка программного обеспечения':\n",
            "   employer_count\n",
            "0            3553\n"
          ]
        }
      ],
      "source": [
        "# Выполняем запрос и получаем результат\n",
        "df_employers_with_software_development = pd.read_sql_query(query_5_6, connection)\n",
        "\n",
        "# Печатаем результат\n",
        "print(\"Количество работодателей с указанной сферой деятельности 'Разработка программного обеспечения':\")\n",
        "print(df_employers_with_software_development)"
      ]
    },
    {
      "cell_type": "markdown",
      "id": "c893936b",
      "metadata": {
        "id": "c893936b"
      },
      "source": [
        "7. Для компании «Яндекс» выведите список [городов-миллионников](https://ru.wikipedia.org/wiki/%D0%93%D0%BE%D1%80%D0%BE%D0%B4%D0%B0-%D0%BC%D0%B8%D0%BB%D0%BB%D0%B8%D0%BE%D0%BD%D0%B5%D1%80%D1%8B_%D0%A0%D0%BE%D1%81%D1%81%D0%B8%D0%B8), в которых представлены вакансии компании, вместе с количеством вакансий в этих регионах. Также добавьте строку \"Total\" с общим количеством вакансий компании. Результат отсортируйте по возрастанию количества.\n",
        "\n",
        "    Если возникнут трудности с этим заданием, посмотрите материалы модуля 6.4 «Как получать данные из веб-источников и API»."
      ]
    },
    {
      "cell_type": "code",
      "execution_count": 52,
      "id": "ZdfrL6gIs1Pn",
      "metadata": {
        "id": "ZdfrL6gIs1Pn",
        "colab": {
          "base_uri": "https://localhost:8080/"
        },
        "outputId": "3ca58a46-08e5-4849-e96a-998ba1681978"
      },
      "outputs": [
        {
          "output_type": "stream",
          "name": "stdout",
          "text": [
            "   Номер            Город\n",
            "0      1           Москва\n",
            "1      2  Санкт-Петербург\n",
            "2      3      Новосибирск\n",
            "3      4     Екатеринбург\n",
            "4      5           Казань\n",
            "5      6       Красноярск\n",
            "6      7  Нижний Новгород\n",
            "7      8        Челябинск\n",
            "8      9              Уфа\n",
            "9     10           Самара\n",
            "10    11   Ростов-на-Дону\n",
            "11    12        Краснодар\n",
            "12    13             Омск\n",
            "13    14          Воронеж\n",
            "14    15            Пермь\n",
            "15    16        Волгоград\n"
          ]
        }
      ],
      "source": [
        "import requests\n",
        "import pandas as pd\n",
        "from bs4 import BeautifulSoup\n",
        "\n",
        "# URL страницы Википедии\n",
        "url = 'https://ru.wikipedia.org/wiki/Города-миллионеры_России'\n",
        "\n",
        "# Выполняем GET-запрос к сайту\n",
        "response = requests.get(url)\n",
        "\n",
        "# Проверяем успешность запроса\n",
        "if response.status_code == 200:\n",
        "    # Создаем объект BeautifulSoup для парсинга HTML\n",
        "    soup = BeautifulSoup(response.content, 'html.parser')\n",
        "\n",
        "    # Находим таблицу с городами\n",
        "    table = soup.find('table', {'class': 'standard sortable'})\n",
        "\n",
        "    # Проверяем, была ли найдена таблица\n",
        "    if table is not None:\n",
        "        # Создаем списки для хранения данных\n",
        "        numbers = []\n",
        "        cities = []\n",
        "\n",
        "        # Извлекаем строки таблицы\n",
        "        for row in table.find_all('tr')[1:]:  # Пропускаем заголовок таблицы\n",
        "            columns = row.find_all('td')\n",
        "            if columns:\n",
        "                # Извлекаем номер и название города\n",
        "                numbers.append(columns[0].text.strip())\n",
        "                cities.append(columns[1].text.strip())\n",
        "\n",
        "        # Создаем DataFrame\n",
        "        df = pd.DataFrame({\n",
        "            'Номер': numbers,\n",
        "            'Город': cities\n",
        "        })\n",
        "\n",
        "        # Выводим таблицу\n",
        "        print(df)\n",
        "    else:\n",
        "        print(\"Таблица не найдена.\")\n",
        "else:\n",
        "    print(f\"Ошибка при запросе: {response.status_code}\")"
      ]
    },
    {
      "cell_type": "code",
      "execution_count": 53,
      "id": "5a0e32a4-e68a-4365-8a39-2fe24c542c36",
      "metadata": {
        "id": "5a0e32a4-e68a-4365-8a39-2fe24c542c36"
      },
      "outputs": [],
      "source": [
        "# Преобразование списка городов в строку для SQL-запроса\n",
        "city_names = ', '.join(f\"'{city}'\" for city in df['Город'])\n",
        "\n",
        "# Запрос для получения количества вакансий для работодателя \"Яндекс\" в указанных регионах\n",
        "query_5_7 = f'''\n",
        "WITH VacancyCounts AS (\n",
        "    SELECT\n",
        "        a.name AS city_name,\n",
        "        COUNT(t_v.id) AS vacancy_count\n",
        "    FROM\n",
        "        vacancies AS t_v\n",
        "    JOIN\n",
        "        employers AS t_e ON t_v.employer_id = t_e.id\n",
        "    JOIN\n",
        "        areas AS a ON t_v.area_id = a.id\n",
        "    WHERE\n",
        "        t_e.name = 'Яндекс'\n",
        "        AND a.name IN ({city_names})  -- Используем city_names здесь\n",
        "    GROUP BY\n",
        "        a.name\n",
        ")\n",
        "\n",
        "SELECT\n",
        "    city_name,\n",
        "    vacancy_count\n",
        "FROM\n",
        "    VacancyCounts\n",
        "\n",
        "UNION ALL\n",
        "\n",
        "SELECT\n",
        "    'Total' AS city_name,\n",
        "    SUM(vacancy_count) AS vacancy_count\n",
        "FROM\n",
        "    VacancyCounts\n",
        "ORDER BY\n",
        "    vacancy_count;\n",
        "'''"
      ]
    },
    {
      "cell_type": "code",
      "execution_count": 54,
      "id": "ttPhiO1rsvPq",
      "metadata": {
        "id": "ttPhiO1rsvPq",
        "colab": {
          "base_uri": "https://localhost:8080/"
        },
        "outputId": "00849442-9604-446e-9709-69efb7d6ad3e"
      },
      "outputs": [
        {
          "output_type": "stream",
          "name": "stdout",
          "text": [
            "Количество вакансий компании 'Яндекс' в указанных регионах:\n",
            "          city_name  vacancy_count\n",
            "0              Омск           21.0\n",
            "1         Челябинск           22.0\n",
            "2        Красноярск           23.0\n",
            "3         Волгоград           24.0\n",
            "4             Пермь           25.0\n",
            "5            Казань           25.0\n",
            "6    Ростов-на-Дону           25.0\n",
            "7            Самара           26.0\n",
            "8               Уфа           26.0\n",
            "9         Краснодар           30.0\n",
            "10          Воронеж           32.0\n",
            "11      Новосибирск           35.0\n",
            "12  Нижний Новгород           36.0\n",
            "13     Екатеринбург           39.0\n",
            "14  Санкт-Петербург           42.0\n",
            "15           Москва           54.0\n",
            "16            Total          485.0\n"
          ]
        }
      ],
      "source": [
        "# Выполняем запрос и получаем результаты\n",
        "df_vacancy_counts = pd.read_sql_query(query_5_7, connection)\n",
        "\n",
        "# Печатаем результаты\n",
        "print(\"Количество вакансий компании 'Яндекс' в указанных регионах:\")\n",
        "print(df_vacancy_counts)"
      ]
    },
    {
      "cell_type": "markdown",
      "source": [
        "##Вывод по анализу работодателей и рынка вакансий\n",
        "Эти данные позволяют получить четкое представление о текущем состоянии рынка вакансий в разных регионах и распределении работодателей по сферам деятельности.\n",
        "В частности, можно выделить несколько ключевых аспектов:\n",
        "\n",
        "Региональное распределение вакансий:\n",
        "\n",
        "Наблюдается значительная разница в количестве вакансий между различными регионами. Например, в таких крупных городах, как Москва и Санкт-Петербург, сосредоточено значительно больше вакансий по сравнению с менее населенными регионами. Это может указывать на концентрацию бизнеса и высокую активность рынка труда в крупных городах.\n",
        "Регион Абакан с 481 вакансией и 13 работодателями демонстрирует, что даже в относительно небольших городах может быть активный рынок труда, хотя и с меньшей конкуренцией.\n",
        "\n",
        "Работодатели с активными вакансиями:\n",
        "\n",
        "Работодатели, такие как Яндекс, занимают лидирующие позиции по количеству предложений, что может свидетельствовать о высоком спросе на специалистов в IT-сфере и технологий. Это также подчеркивает важность таких компаний в экономике и на рынке труда.\n",
        "Наличие работодателя, как Газпром нефть, на пятом месте показывает, что традиционные сферы, такие как энергетика, также играют значительную роль на рынке.\n",
        "\n",
        "Работодатели без вакансий:\n",
        "\n",
        "Обнаружение большого количества работодателей без открытых вакансий (например, 8419) может указывать на несколько факторов: возможно, они не активно ищут сотрудников в данный момент или же испытывают трудности в найме, что может быть связано с изменениями на рынке или экономической ситуацией.\n",
        "Регион Россия с 410 работодателями без вакансий может означать, что в этом регионе существует потенциальный рынок работников, но работодатели не используют его, что вызывает вопросы о возможности улучшения ситуации.\n",
        "\n",
        "Сферы деятельности:\n",
        "\n",
        "Данные о работодателях в сфере разработки программного обеспечения (3553) подчеркивают растущую значимость технологий и цифровизации, что отражает глобальные тренды. Это может быть связано с увеличением инвестиций в IT и цифровую инфраструктуру.\n",
        "Интерес к компаниям с несколькими сферами деятельности, как, например, у 2ГИС, помогает понять, какие навыки и знания могут быть востребованы в будущем, и как работники могут адаптироваться к изменяющимся требованиям рынка.\n",
        "\n",
        "Вакансии в городах-миллионниках:\n",
        "\n",
        "Данные о вакансиях компании «Яндекс» в городах-миллионниках показывают, что крупные компании ищут кадры не только в столицах, но и в регионах с развитой инфраструктурой и населением. Это создает возможность для трудоустройства и карьерного роста для жителей этих городов.\n",
        "Общая сумма вакансий в 485 подчеркивает, что компания активно развивает свои позиции в различных регионах, что может быть признаком роста бизнеса и увеличения спроса на услуги.\n",
        "\n",
        "Заключение\n",
        "\n",
        "Анализ данных об работодателях и вакансиях позволяет выявить ключевые тенденции на рынке труда, определить области с высоким потенциалом для карьерного роста, а также понять, какие сферы деятельности становятся более востребованными. Такой анализ может служить основой для разработки стратегий по повышению конкурентоспособности на рынке труда, как для работодателей, так и для соискателей. Важно также учитывать, что обстоятельства могут меняться, и регулярный мониторинг данных поможет быть в курсе текущих тенденций.\n",
        "\n"
      ],
      "metadata": {
        "id": "04IRFGorW91n"
      },
      "id": "04IRFGorW91n"
    },
    {
      "cell_type": "markdown",
      "id": "04966e40-3bc3-4dc8-9ba2-e80580ce3abc",
      "metadata": {
        "id": "04966e40-3bc3-4dc8-9ba2-e80580ce3abc"
      },
      "source": [
        "***"
      ]
    },
    {
      "cell_type": "markdown",
      "id": "b1ef156a-efcb-49ce-bb23-90763e7f35b2",
      "metadata": {
        "id": "b1ef156a-efcb-49ce-bb23-90763e7f35b2",
        "tags": []
      },
      "source": [
        "## 6. Предметный анализ"
      ]
    },
    {
      "cell_type": "markdown",
      "id": "b9cd50a0-992d-4988-8463-2b2b1c4629b4",
      "metadata": {
        "id": "b9cd50a0-992d-4988-8463-2b2b1c4629b4"
      },
      "source": [
        "1. Сколько вакансий имеет отношение к данным?\n",
        "\n",
        "    Считаем, что вакансия имеет отношение к данным, если в её названии содержатся слова `'data'` или `'данн'`.\n",
        "\n",
        "    *Обратите внимание, что названия вакансий могут быть написаны в любом регистре.*\n"
      ]
    },
    {
      "cell_type": "code",
      "execution_count": 55,
      "id": "54ab0e50-c0f1-47cc-a54b-bc5c8bc363f9",
      "metadata": {
        "id": "54ab0e50-c0f1-47cc-a54b-bc5c8bc363f9"
      },
      "outputs": [],
      "source": [
        "# SQL-запрос для подсчета вакансий, которые имеют отношение к данным, если в её названии содержатся слова 'data' или 'данн'\n",
        "query_6_1 = f'''\n",
        "SELECT COUNT(*) AS related_vacancy_count\n",
        "FROM public.vacancies\n",
        "WHERE LOWER(name) LIKE '%data%' OR LOWER(name) LIKE '%данн%';\n",
        "'''\n",
        "\n"
      ]
    },
    {
      "cell_type": "code",
      "execution_count": 56,
      "id": "9F1meAqsuUjd",
      "metadata": {
        "id": "9F1meAqsuUjd",
        "colab": {
          "base_uri": "https://localhost:8080/"
        },
        "outputId": "da75b691-4c60-49a9-8ff9-b39b6302877c"
      },
      "outputs": [
        {
          "output_type": "stream",
          "name": "stdout",
          "text": [
            "   related_vacancy_count\n",
            "0                   1771\n"
          ]
        }
      ],
      "source": [
        "# Выполняем запрос и получаем результаты\n",
        "df_related_vacancy_count = pd.read_sql_query(query_6_1, connection)\n",
        "\n",
        "    # Вывод результата\n",
        "print(df_related_vacancy_count)"
      ]
    },
    {
      "cell_type": "markdown",
      "id": "4dea20cb-a36b-474a-a0b9-e08e8e3857a5",
      "metadata": {
        "id": "4dea20cb-a36b-474a-a0b9-e08e8e3857a5"
      },
      "source": [
        "2. Сколько есть подходящих вакансий для начинающего дата-сайентиста? Будем считать вакансиями для дата-сайентистов такие, в названии которых есть хотя бы одно из следующих сочетаний:\n",
        "    * 'data scientist'\n",
        "    * 'data science'\n",
        "    * 'исследователь данных'\n",
        "    * 'ML' (здесь не нужно брать вакансии по HTML)\n",
        "    * 'machine learning'\n",
        "    * 'машинн%обучен%'\n",
        "\n",
        "    **В следующих заданиях мы продолжим работать с вакансиями по этому условию.**\n",
        "\n",
        "    Считаем вакансиями для специалистов уровня Junior следующие:\n",
        "    + в названии есть слово “junior” **или**\n",
        "    + требуемый опыт — «Нет опыта» **или**\n",
        "    + тип трудоустройства — «Стажировка».\n"
      ]
    },
    {
      "cell_type": "code",
      "execution_count": 59,
      "id": "9c61b3c0-bb66-46c9-ae1e-81d3f5752b4a",
      "metadata": {
        "id": "9c61b3c0-bb66-46c9-ae1e-81d3f5752b4a"
      },
      "outputs": [],
      "source": [
        "# количество вакансий для начинающих DS\n",
        "query_6_2 = f'''select\n",
        "               count(name) cnt_data_vacancies\n",
        "               from vacancies\n",
        "               where (name ilike '%data scientist%'\n",
        "                  or name ilike '%data science%'\n",
        "                  or name ilike '%исследователь данных%'\n",
        "                  or name ilike '%ML%' and name not ilike '%HTML%'\n",
        "                  or name ilike '%machine learning%'\n",
        "                  or name ilike '%машинн%обучен%')\n",
        "                  and (name ilike '%junior%'\n",
        "                  or experience ilike 'Нет опыта'\n",
        "                  or employment ilike 'Стажировка')\n",
        "            '''"
      ]
    },
    {
      "cell_type": "code",
      "execution_count": 60,
      "id": "ZNM-LLYuu1dj",
      "metadata": {
        "id": "ZNM-LLYuu1dj",
        "colab": {
          "base_uri": "https://localhost:8080/"
        },
        "outputId": "3bbe1df1-894c-4573-cd12-f67e8b96b60d"
      },
      "outputs": [
        {
          "output_type": "stream",
          "name": "stdout",
          "text": [
            "   cnt_data_vacancies\n",
            "0                  51\n"
          ]
        }
      ],
      "source": [
        "# результат запроса\n",
        "vacancies_count_ds = pd.read_sql_query(query_6_2, connection)\n",
        "    # Вывод результата\n",
        "print(vacancies_count_ds)"
      ]
    },
    {
      "cell_type": "markdown",
      "id": "eedceb80-c5ca-480e-b27a-278dfb8b4438",
      "metadata": {
        "id": "eedceb80-c5ca-480e-b27a-278dfb8b4438"
      },
      "source": [
        "3. Сколько есть вакансий для DS, в которых в качестве ключевого навыка указан SQL или Postgres?\n",
        "\n",
        "    *Критерии для отнесения вакансии к DS указаны в предыдущем задании.*"
      ]
    },
    {
      "cell_type": "code",
      "execution_count": 62,
      "id": "69621713-0cc5-4f1b-a1d7-bb144fa6148c",
      "metadata": {
        "id": "69621713-0cc5-4f1b-a1d7-bb144fa6148c"
      },
      "outputs": [],
      "source": [
        "# количество вакансий для DS с ключевым навыком \"SQL\" или \"postgres\"\n",
        "query_6_3 = f'''select\n",
        "               count(name) cnt_data_vacancies\n",
        "               from vacancies\n",
        "               where (name ilike '%data scientist%'\n",
        "                  or name ilike '%data science%'\n",
        "                  or name ilike '%исследователь данных%'\n",
        "                  or name ilike '%ML%' and name not ilike '%HTML%'\n",
        "                  or name ilike '%machine learning%'\n",
        "                  or name ilike '%машинн%обучен%')\n",
        "                  and (key_skills ilike '%SQL%'\n",
        "                  or key_skills ilike '%postgres%')\n",
        "            '''"
      ]
    },
    {
      "cell_type": "code",
      "execution_count": 63,
      "id": "alA8WEAAvGdf",
      "metadata": {
        "id": "alA8WEAAvGdf",
        "colab": {
          "base_uri": "https://localhost:8080/"
        },
        "outputId": "506588e9-c828-4e87-ff20-ff4ec12e0a21"
      },
      "outputs": [
        {
          "output_type": "stream",
          "name": "stdout",
          "text": [
            "   cnt_data_vacancies\n",
            "0                 229\n"
          ]
        }
      ],
      "source": [
        "ds_vacancies_with_sql_or_postgres_count = pd.read_sql_query(query_6_3, connection)\n",
        "    # Вывод результата\n",
        "print(ds_vacancies_with_sql_or_postgres_count)"
      ]
    },
    {
      "cell_type": "markdown",
      "id": "1be1e9c6-37cf-4a5f-bfeb-04cab799dc80",
      "metadata": {
        "id": "1be1e9c6-37cf-4a5f-bfeb-04cab799dc80"
      },
      "source": [
        "4. Проверьте, насколько популярен Python в требованиях работодателей к DS. Для этого вычислите количество вакансий, в которых в качестве ключевого навыка указан Python.\n",
        "\n",
        "    *Это можно сделать помощью запроса, аналогичного предыдущему.*"
      ]
    },
    {
      "cell_type": "code",
      "execution_count": 64,
      "id": "0036a355-9ccf-4564-8b01-73d8194297e7",
      "metadata": {
        "id": "0036a355-9ccf-4564-8b01-73d8194297e7"
      },
      "outputs": [],
      "source": [
        "# количество вакансий для DS с ключевым навыком \"Python\"\n",
        "query_6_4 = f'''select\n",
        "               count(name) cnt_data_vacancies\n",
        "               from vacancies\n",
        "               where (name ilike '%data scientist%'\n",
        "                  or name ilike '%data science%'\n",
        "                  or name ilike '%исследователь данных%'\n",
        "                  or name ilike '%ML%' and name not ilike '%HTML%'\n",
        "                  or name ilike '%machine learning%'\n",
        "                  or name ilike '%машинн%обучен%')\n",
        "                  and key_skills ilike '%Python%'\n",
        "            '''"
      ]
    },
    {
      "cell_type": "code",
      "execution_count": 65,
      "id": "1i-5WyucvQ6v",
      "metadata": {
        "id": "1i-5WyucvQ6v",
        "colab": {
          "base_uri": "https://localhost:8080/"
        },
        "outputId": "c635b063-b2f8-4f96-b6d2-c147299c1d52"
      },
      "outputs": [
        {
          "output_type": "stream",
          "name": "stdout",
          "text": [
            "   cnt_data_vacancies\n",
            "0                 357\n"
          ]
        }
      ],
      "source": [
        "ds_vacancies_with_python_count = pd.read_sql_query(query_6_4, connection)\n",
        "print(ds_vacancies_with_python_count)"
      ]
    },
    {
      "cell_type": "markdown",
      "id": "ec3c8db7-fa21-4a41-a994-1af63742a642",
      "metadata": {
        "id": "ec3c8db7-fa21-4a41-a994-1af63742a642"
      },
      "source": [
        "5. Сколько ключевых навыков в среднем указывают в вакансиях для DS?\n",
        "Ответ округлите до **двух знаков после точки-разделителя**."
      ]
    },
    {
      "cell_type": "code",
      "execution_count": 68,
      "id": "949132bc-d5b6-4611-8218-0b9a504d74f4",
      "metadata": {
        "id": "949132bc-d5b6-4611-8218-0b9a504d74f4"
      },
      "outputs": [],
      "source": [
        "# среднее количесво требуемых ключевых навыков для DS\n",
        "query_6_5 = f'''select\n",
        "               round(avg(length(key_skills) - length(replace(key_skills, CHR(9), '')) + 1), 2) avg_key_skills\n",
        "               from vacancies\n",
        "               where name ilike '%data scientist%'\n",
        "                  or name ilike '%data science%'\n",
        "                  or name ilike '%исследователь данных%'\n",
        "                  or name like '%ML%' and name not ilike '%HTML%'\n",
        "                  or name ilike '%machine learning%'\n",
        "                  or name ilike '%машинн%обучен%'\n",
        "                  and key_skills is not null\n",
        "            '''"
      ]
    },
    {
      "cell_type": "code",
      "execution_count": 69,
      "id": "a3V24Tvmviqk",
      "metadata": {
        "id": "a3V24Tvmviqk",
        "colab": {
          "base_uri": "https://localhost:8080/"
        },
        "outputId": "9fb2c9fa-99d8-4b01-f26d-dc7c853d4d45"
      },
      "outputs": [
        {
          "output_type": "stream",
          "name": "stdout",
          "text": [
            "   avg_key_skills\n",
            "0            6.41\n"
          ]
        }
      ],
      "source": [
        "average_required_skills_for_ds = pd.read_sql_query(query_6_5, connection)\n",
        "print(average_required_skills_for_ds)"
      ]
    },
    {
      "cell_type": "markdown",
      "id": "1041c17a-ca8f-4543-a0ca-32778914fb00",
      "metadata": {
        "id": "1041c17a-ca8f-4543-a0ca-32778914fb00"
      },
      "source": [
        "6. Напишите запрос, позволяющий вычислить, какую зарплату для DS в среднем указывают для каждого типа требуемого опыта (уникальное значение из поля `experience`).\n",
        "\n",
        "    При решении задачи примите во внимание следующее:\n",
        "    1. Рассматриваем только вакансии, у которых заполнено хотя бы одно из двух полей с зарплатой.\n",
        "    2. Если заполнены оба поля с зарплатой, то считаем зарплату по каждой вакансии как сумму двух полей, делённую на 2. Если заполнено только одно из полей, то его и считаем зарплатой по вакансии.\n",
        "    3. Если в расчётах участвует `null`, в результате он тоже даст `null` (посмотрите, что возвращает запрос `select 1 + null`). Чтобы избежать этой ситуацию, мы воспользуемся функцией [coalesce](https://postgrespro.ru/docs/postgresql/9.5/functions-conditional#functions-coalesce-nvl-ifnull), которая заменит `null` на значение, которое мы передадим. Например, посмотрите, что возвращает запрос `select 1 + coalesce(null, 0)`\n",
        "\n",
        "    Выясните, на какую зарплату в среднем может рассчитывать дата-сайентист с опытом работы от 3 до 6 лет. Результат округлите до **целого числа**."
      ]
    },
    {
      "cell_type": "code",
      "execution_count": 70,
      "id": "6a743d39-5204-48d3-8271-b9f88e68d40e",
      "metadata": {
        "id": "6a743d39-5204-48d3-8271-b9f88e68d40e"
      },
      "outputs": [],
      "source": [
        "# средняя зарплата для каждого уникального типа требуемого опыта\n",
        "query_6_6 = f'''select\n",
        "               distinct experience,\n",
        "               round(avg(coalesce((salary_from+salary_to)/2, salary_from, salary_to)))\n",
        "               from vacancies\n",
        "               where (name ilike '%data scientist%'\n",
        "                  or name ilike '%data science%'\n",
        "                  or name ilike '%исследователь данных%'\n",
        "                  or name like '%ML%' and name not ilike '%HTML%'\n",
        "                  or name ilike '%machine learning%'\n",
        "                  or name ilike '%машинн%обучен%')\n",
        "                  and (salary_from is not null or salary_to is not null)\n",
        "               group by 1\n",
        "            '''"
      ]
    },
    {
      "cell_type": "code",
      "execution_count": 71,
      "id": "aRIJ0mZEwU1_",
      "metadata": {
        "id": "aRIJ0mZEwU1_",
        "colab": {
          "base_uri": "https://localhost:8080/",
          "height": 143
        },
        "outputId": "0c24c6cf-b401-4957-812b-5ebf86c9ddc0"
      },
      "outputs": [
        {
          "output_type": "execute_result",
          "data": {
            "text/plain": [
              "           experience     round\n",
              "0           Нет опыта   74643.0\n",
              "1  От 1 года до 3 лет  139675.0\n",
              "2       От 3 до 6 лет  243115.0"
            ],
            "text/html": [
              "\n",
              "  <div id=\"df-06fafae8-cdca-4df4-836b-cd497e2d09da\" class=\"colab-df-container\">\n",
              "    <div>\n",
              "<style scoped>\n",
              "    .dataframe tbody tr th:only-of-type {\n",
              "        vertical-align: middle;\n",
              "    }\n",
              "\n",
              "    .dataframe tbody tr th {\n",
              "        vertical-align: top;\n",
              "    }\n",
              "\n",
              "    .dataframe thead th {\n",
              "        text-align: right;\n",
              "    }\n",
              "</style>\n",
              "<table border=\"1\" class=\"dataframe\">\n",
              "  <thead>\n",
              "    <tr style=\"text-align: right;\">\n",
              "      <th></th>\n",
              "      <th>experience</th>\n",
              "      <th>round</th>\n",
              "    </tr>\n",
              "  </thead>\n",
              "  <tbody>\n",
              "    <tr>\n",
              "      <th>0</th>\n",
              "      <td>Нет опыта</td>\n",
              "      <td>74643.0</td>\n",
              "    </tr>\n",
              "    <tr>\n",
              "      <th>1</th>\n",
              "      <td>От 1 года до 3 лет</td>\n",
              "      <td>139675.0</td>\n",
              "    </tr>\n",
              "    <tr>\n",
              "      <th>2</th>\n",
              "      <td>От 3 до 6 лет</td>\n",
              "      <td>243115.0</td>\n",
              "    </tr>\n",
              "  </tbody>\n",
              "</table>\n",
              "</div>\n",
              "    <div class=\"colab-df-buttons\">\n",
              "\n",
              "  <div class=\"colab-df-container\">\n",
              "    <button class=\"colab-df-convert\" onclick=\"convertToInteractive('df-06fafae8-cdca-4df4-836b-cd497e2d09da')\"\n",
              "            title=\"Convert this dataframe to an interactive table.\"\n",
              "            style=\"display:none;\">\n",
              "\n",
              "  <svg xmlns=\"http://www.w3.org/2000/svg\" height=\"24px\" viewBox=\"0 -960 960 960\">\n",
              "    <path d=\"M120-120v-720h720v720H120Zm60-500h600v-160H180v160Zm220 220h160v-160H400v160Zm0 220h160v-160H400v160ZM180-400h160v-160H180v160Zm440 0h160v-160H620v160ZM180-180h160v-160H180v160Zm440 0h160v-160H620v160Z\"/>\n",
              "  </svg>\n",
              "    </button>\n",
              "\n",
              "  <style>\n",
              "    .colab-df-container {\n",
              "      display:flex;\n",
              "      gap: 12px;\n",
              "    }\n",
              "\n",
              "    .colab-df-convert {\n",
              "      background-color: #E8F0FE;\n",
              "      border: none;\n",
              "      border-radius: 50%;\n",
              "      cursor: pointer;\n",
              "      display: none;\n",
              "      fill: #1967D2;\n",
              "      height: 32px;\n",
              "      padding: 0 0 0 0;\n",
              "      width: 32px;\n",
              "    }\n",
              "\n",
              "    .colab-df-convert:hover {\n",
              "      background-color: #E2EBFA;\n",
              "      box-shadow: 0px 1px 2px rgba(60, 64, 67, 0.3), 0px 1px 3px 1px rgba(60, 64, 67, 0.15);\n",
              "      fill: #174EA6;\n",
              "    }\n",
              "\n",
              "    .colab-df-buttons div {\n",
              "      margin-bottom: 4px;\n",
              "    }\n",
              "\n",
              "    [theme=dark] .colab-df-convert {\n",
              "      background-color: #3B4455;\n",
              "      fill: #D2E3FC;\n",
              "    }\n",
              "\n",
              "    [theme=dark] .colab-df-convert:hover {\n",
              "      background-color: #434B5C;\n",
              "      box-shadow: 0px 1px 3px 1px rgba(0, 0, 0, 0.15);\n",
              "      filter: drop-shadow(0px 1px 2px rgba(0, 0, 0, 0.3));\n",
              "      fill: #FFFFFF;\n",
              "    }\n",
              "  </style>\n",
              "\n",
              "    <script>\n",
              "      const buttonEl =\n",
              "        document.querySelector('#df-06fafae8-cdca-4df4-836b-cd497e2d09da button.colab-df-convert');\n",
              "      buttonEl.style.display =\n",
              "        google.colab.kernel.accessAllowed ? 'block' : 'none';\n",
              "\n",
              "      async function convertToInteractive(key) {\n",
              "        const element = document.querySelector('#df-06fafae8-cdca-4df4-836b-cd497e2d09da');\n",
              "        const dataTable =\n",
              "          await google.colab.kernel.invokeFunction('convertToInteractive',\n",
              "                                                    [key], {});\n",
              "        if (!dataTable) return;\n",
              "\n",
              "        const docLinkHtml = 'Like what you see? Visit the ' +\n",
              "          '<a target=\"_blank\" href=https://colab.research.google.com/notebooks/data_table.ipynb>data table notebook</a>'\n",
              "          + ' to learn more about interactive tables.';\n",
              "        element.innerHTML = '';\n",
              "        dataTable['output_type'] = 'display_data';\n",
              "        await google.colab.output.renderOutput(dataTable, element);\n",
              "        const docLink = document.createElement('div');\n",
              "        docLink.innerHTML = docLinkHtml;\n",
              "        element.appendChild(docLink);\n",
              "      }\n",
              "    </script>\n",
              "  </div>\n",
              "\n",
              "\n",
              "<div id=\"df-4fbb7e34-0646-4836-8333-0276871047a5\">\n",
              "  <button class=\"colab-df-quickchart\" onclick=\"quickchart('df-4fbb7e34-0646-4836-8333-0276871047a5')\"\n",
              "            title=\"Suggest charts\"\n",
              "            style=\"display:none;\">\n",
              "\n",
              "<svg xmlns=\"http://www.w3.org/2000/svg\" height=\"24px\"viewBox=\"0 0 24 24\"\n",
              "     width=\"24px\">\n",
              "    <g>\n",
              "        <path d=\"M19 3H5c-1.1 0-2 .9-2 2v14c0 1.1.9 2 2 2h14c1.1 0 2-.9 2-2V5c0-1.1-.9-2-2-2zM9 17H7v-7h2v7zm4 0h-2V7h2v10zm4 0h-2v-4h2v4z\"/>\n",
              "    </g>\n",
              "</svg>\n",
              "  </button>\n",
              "\n",
              "<style>\n",
              "  .colab-df-quickchart {\n",
              "      --bg-color: #E8F0FE;\n",
              "      --fill-color: #1967D2;\n",
              "      --hover-bg-color: #E2EBFA;\n",
              "      --hover-fill-color: #174EA6;\n",
              "      --disabled-fill-color: #AAA;\n",
              "      --disabled-bg-color: #DDD;\n",
              "  }\n",
              "\n",
              "  [theme=dark] .colab-df-quickchart {\n",
              "      --bg-color: #3B4455;\n",
              "      --fill-color: #D2E3FC;\n",
              "      --hover-bg-color: #434B5C;\n",
              "      --hover-fill-color: #FFFFFF;\n",
              "      --disabled-bg-color: #3B4455;\n",
              "      --disabled-fill-color: #666;\n",
              "  }\n",
              "\n",
              "  .colab-df-quickchart {\n",
              "    background-color: var(--bg-color);\n",
              "    border: none;\n",
              "    border-radius: 50%;\n",
              "    cursor: pointer;\n",
              "    display: none;\n",
              "    fill: var(--fill-color);\n",
              "    height: 32px;\n",
              "    padding: 0;\n",
              "    width: 32px;\n",
              "  }\n",
              "\n",
              "  .colab-df-quickchart:hover {\n",
              "    background-color: var(--hover-bg-color);\n",
              "    box-shadow: 0 1px 2px rgba(60, 64, 67, 0.3), 0 1px 3px 1px rgba(60, 64, 67, 0.15);\n",
              "    fill: var(--button-hover-fill-color);\n",
              "  }\n",
              "\n",
              "  .colab-df-quickchart-complete:disabled,\n",
              "  .colab-df-quickchart-complete:disabled:hover {\n",
              "    background-color: var(--disabled-bg-color);\n",
              "    fill: var(--disabled-fill-color);\n",
              "    box-shadow: none;\n",
              "  }\n",
              "\n",
              "  .colab-df-spinner {\n",
              "    border: 2px solid var(--fill-color);\n",
              "    border-color: transparent;\n",
              "    border-bottom-color: var(--fill-color);\n",
              "    animation:\n",
              "      spin 1s steps(1) infinite;\n",
              "  }\n",
              "\n",
              "  @keyframes spin {\n",
              "    0% {\n",
              "      border-color: transparent;\n",
              "      border-bottom-color: var(--fill-color);\n",
              "      border-left-color: var(--fill-color);\n",
              "    }\n",
              "    20% {\n",
              "      border-color: transparent;\n",
              "      border-left-color: var(--fill-color);\n",
              "      border-top-color: var(--fill-color);\n",
              "    }\n",
              "    30% {\n",
              "      border-color: transparent;\n",
              "      border-left-color: var(--fill-color);\n",
              "      border-top-color: var(--fill-color);\n",
              "      border-right-color: var(--fill-color);\n",
              "    }\n",
              "    40% {\n",
              "      border-color: transparent;\n",
              "      border-right-color: var(--fill-color);\n",
              "      border-top-color: var(--fill-color);\n",
              "    }\n",
              "    60% {\n",
              "      border-color: transparent;\n",
              "      border-right-color: var(--fill-color);\n",
              "    }\n",
              "    80% {\n",
              "      border-color: transparent;\n",
              "      border-right-color: var(--fill-color);\n",
              "      border-bottom-color: var(--fill-color);\n",
              "    }\n",
              "    90% {\n",
              "      border-color: transparent;\n",
              "      border-bottom-color: var(--fill-color);\n",
              "    }\n",
              "  }\n",
              "</style>\n",
              "\n",
              "  <script>\n",
              "    async function quickchart(key) {\n",
              "      const quickchartButtonEl =\n",
              "        document.querySelector('#' + key + ' button');\n",
              "      quickchartButtonEl.disabled = true;  // To prevent multiple clicks.\n",
              "      quickchartButtonEl.classList.add('colab-df-spinner');\n",
              "      try {\n",
              "        const charts = await google.colab.kernel.invokeFunction(\n",
              "            'suggestCharts', [key], {});\n",
              "      } catch (error) {\n",
              "        console.error('Error during call to suggestCharts:', error);\n",
              "      }\n",
              "      quickchartButtonEl.classList.remove('colab-df-spinner');\n",
              "      quickchartButtonEl.classList.add('colab-df-quickchart-complete');\n",
              "    }\n",
              "    (() => {\n",
              "      let quickchartButtonEl =\n",
              "        document.querySelector('#df-4fbb7e34-0646-4836-8333-0276871047a5 button');\n",
              "      quickchartButtonEl.style.display =\n",
              "        google.colab.kernel.accessAllowed ? 'block' : 'none';\n",
              "    })();\n",
              "  </script>\n",
              "</div>\n",
              "    </div>\n",
              "  </div>\n"
            ],
            "application/vnd.google.colaboratory.intrinsic+json": {
              "type": "dataframe",
              "variable_name": "average_salary_by_experience_type",
              "summary": "{\n  \"name\": \"average_salary_by_experience_type\",\n  \"rows\": 3,\n  \"fields\": [\n    {\n      \"column\": \"experience\",\n      \"properties\": {\n        \"dtype\": \"string\",\n        \"num_unique_values\": 3,\n        \"samples\": [\n          \"\\u041d\\u0435\\u0442 \\u043e\\u043f\\u044b\\u0442\\u0430\",\n          \"\\u041e\\u0442 1 \\u0433\\u043e\\u0434\\u0430 \\u0434\\u043e 3 \\u043b\\u0435\\u0442\",\n          \"\\u041e\\u0442 3 \\u0434\\u043e 6 \\u043b\\u0435\\u0442\"\n        ],\n        \"semantic_type\": \"\",\n        \"description\": \"\"\n      }\n    },\n    {\n      \"column\": \"round\",\n      \"properties\": {\n        \"dtype\": \"number\",\n        \"std\": 84962.54999311952,\n        \"min\": 74643.0,\n        \"max\": 243115.0,\n        \"num_unique_values\": 3,\n        \"samples\": [\n          74643.0,\n          139675.0,\n          243115.0\n        ],\n        \"semantic_type\": \"\",\n        \"description\": \"\"\n      }\n    }\n  ]\n}"
            }
          },
          "metadata": {},
          "execution_count": 71
        }
      ],
      "source": [
        "average_salary_by_experience_type = pd.read_sql_query(query_6_6, connection)\n",
        "average_salary_by_experience_type"
      ]
    },
    {
      "cell_type": "markdown",
      "source": [
        "##На основе представленных данных по предметному анализу вакансий для дата-сайентистов можно сделать следующие выводы:\n",
        "\n",
        "Общее количество вакансий: Вакансий, имеющих отношение к данным, достаточно много - 1771. Это свидетельствует о высоком спросе на специалистов в области данных.\n",
        "\n",
        "Вакансии для начинающих: Из 1771 вакансии только 51 подходит для начинающего дата-сайентиста. Это может указывать на ограниченные возможности для входа в профессию или на высокие требования к кандидатам даже на начальном уровне.\n",
        "\n",
        "Ключевые навыки:\n",
        "\n",
        "Вакансий, в которых в качестве ключевого навыка указан SQL или Postgres, достаточно много - 229. Это подчеркивает важность этих технологий в области анализа данных и работы с базами данных.\n",
        "\n",
        "Количество вакансий, требующих знание Python, составляет 357. Python остается одним из самых популярных языков программирования в сфере данных, что подтверждает его значимость для специалистов.\n",
        "\n",
        "Среднее количество ключевых навыков: Вакансии для дата-сайентистов в среднем содержат 6,41 ключевых навыка. Это говорит о том, что работодатели ожидают от кандидатов широких знаний и навыков, что может быть вызвано многообразием задач, с которыми сталкиваются дата-сайентисты.\n",
        "\n",
        "Средняя зарплата по опыту:\n",
        "\n",
        "Для специалистов без опыта средняя зарплата составляет 74643.0, что может быть относительно низким для начала карьеры.\n",
        "\n",
        "Специалисты с опытом от 1 до 3 лет могут рассчитывать на среднюю зарплату в 139675.0, что значительно выше и отражает рост заработка с увеличением опыта.\n",
        "\n",
        "Специалисты с опытом от 3 до 6 лет получают в среднем 243115.0, что указывает на высокую ценность опытных дата-сайентистов на рынке труда.\n",
        "\n",
        "В общем, рынок вакансий для дата-сайентистов демонстрирует значительный интерес к специалистам, однако, для начинающих возможностей немного, а требования к навыкам высоки. С увеличением опыта заработная плата значительно возрастает, что подчеркивает ценность профессионального роста в этой области."
      ],
      "metadata": {
        "id": "JDvaMFZtb1gV"
      },
      "id": "JDvaMFZtb1gV"
    },
    {
      "cell_type": "markdown",
      "id": "6a7892b4-4113-4746-adce-18aa2844f18e",
      "metadata": {
        "id": "6a7892b4-4113-4746-adce-18aa2844f18e"
      },
      "source": [
        "***"
      ]
    },
    {
      "cell_type": "markdown",
      "id": "c0ED6fh7wiBT",
      "metadata": {
        "id": "c0ED6fh7wiBT"
      },
      "source": [
        "## Общий вывод по проекту"
      ]
    },
    {
      "cell_type": "markdown",
      "source": [
        "\n",
        "На основе представленных данных можно сделать общий вывод о состоянии рынка труда, который демонстрирует активность и разнообразие в вакансиях, работодателях, регионах и сферах деятельности.\n",
        "\n",
        "Активный рынок труда: Общее количество вакансий составляет 49 197, что указывает на высокую динамику и разнообразие предложений по трудоустройству. Это создает возможности для соискателей с различными уровнями квалификации и опытом.\n",
        "\n",
        "Конкуренция среди работодателей: С 23 501 работодателями на рынке наблюдается высокая конкуренция, что может приводить к улучшению условий труда и зарплат для соискателей.\n",
        "\n",
        "Широкое географическое покрытие: Вакансии представлены в 1 362 регионах, что дает соискателям возможность находить работу в различных местах, включая как крупные города, так и менее населенные регионы.\n",
        "\n",
        "Разнообразие сфер деятельности: Наличие 294 сфер деятельности свидетельствует о многогранности рынка труда. Соискатели могут выбирать из множества направлений, что позволяет находить работу, соответствующую их интересам и навыкам.\n",
        "\n",
        "Географическое распределение вакансий: Наибольшее количество вакансий сосредоточено в крупных городах, таких как Москва и Санкт-Петербург, что указывает на концентрацию бизнеса и высокую активность рынка труда в этих регионах.\n",
        "\n",
        "Зарплатные вилки: Средняя нижняя граница зарплаты составляет 71,065 рублей, а верхняя — 110,537 рублей, что свидетельствует о значительном диапазоне зарплат в зависимости от опыта, квалификации и отрасли.\n",
        "\n",
        "Тип занятости: Вакансии с полным рабочим днем и полной занятостью преобладают, однако наблюдается растущий интерес к удаленной работе, что отражает изменяющиеся требования соискателей и работодателей.\n",
        "\n",
        "Требования к опыту: Наибольшее количество вакансий требует от 1 до 3 лет опыта. Это может указывать на высокий спрос на специалистов с определенным опытом, в то время как вакансии для начинающих также присутствуют, создавая возможности для начального входа в профессию.\n",
        "\n",
        "В заключение, рынок труда показывает высокую активность и разнообразие, предлагая множество вакансий от различных работодателей и в различных регионах. Однако высокая конкуренция может создать определенные сложности для соискателей, особенно для начинающих специалистов. Регулярный мониторинг данных о рынке труда поможет оставаться в курсе текущих тенденций и адаптироваться к изменяющимся условиям."
      ],
      "metadata": {
        "id": "JEqrxAL6csea"
      },
      "id": "JEqrxAL6csea"
    },
    {
      "cell_type": "markdown",
      "source": [
        "# Дополнительные исследования"
      ],
      "metadata": {
        "id": "WLILq32idg5l"
      },
      "id": "WLILq32idg5l"
    },
    {
      "cell_type": "markdown",
      "source": [
        "1. Посчитаем количество вакансий для каждого работодателя в сфере DS."
      ],
      "metadata": {
        "id": "zA25K25cdpdL"
      },
      "id": "zA25K25cdpdL"
    },
    {
      "cell_type": "code",
      "execution_count": 72,
      "id": "h9B3BL-wwj18",
      "metadata": {
        "id": "h9B3BL-wwj18"
      },
      "outputs": [],
      "source": [
        "# количесиво вакансий для DS на каждого работодателя\n",
        "query_1 = '''with t as\n",
        "            (select\n",
        "            e.name employer,\n",
        "            count(*) data_vacancies\n",
        "            from vacancies v\n",
        "            join employers e on e.id = v.employer_id\n",
        "            where v.name ilike '%data scientist%'\n",
        "               or v.name ilike '%data science%'\n",
        "               or v.name ilike '%исследователь данных%'\n",
        "               or v.name ilike '%ML%' and v.name not ilike '%HTML%'\n",
        "               or v.name ilike '%machine learning%'\n",
        "               or v.name ilike '%машинн%обучен%'\n",
        "            group by e.name\n",
        "            order by 2 desc\n",
        "            )\n",
        "\n",
        "            select\n",
        "            t.employer,\n",
        "            t.data_vacancies\n",
        "            from t\n",
        "            union all\n",
        "            select\n",
        "            'total',\n",
        "            sum(t.data_vacancies)\n",
        "            from t\n",
        "         '''"
      ]
    },
    {
      "cell_type": "code",
      "source": [
        "# результат запроса\n",
        "df = pd.read_sql_query(query_1, connection)\n",
        "df"
      ],
      "metadata": {
        "colab": {
          "base_uri": "https://localhost:8080/",
          "height": 423
        },
        "id": "TENF6n6pdvpv",
        "outputId": "cf7f1d9b-2a76-4173-b48b-b6b710a41852"
      },
      "id": "TENF6n6pdvpv",
      "execution_count": 73,
      "outputs": [
        {
          "output_type": "execute_result",
          "data": {
            "text/plain": [
              "                          employer  data_vacancies\n",
              "0                             СБЕР            39.0\n",
              "1                  Bell Integrator            25.0\n",
              "2                   Банк ВТБ (ПАО)            18.0\n",
              "3                               VK            15.0\n",
              "4            Positive Technologies            11.0\n",
              "..                             ...             ...\n",
              "258  А1 (Унитарное предприятие А1)             1.0\n",
              "259                             СТ             1.0\n",
              "260                   АБСОЛЮТ БАНК             1.0\n",
              "261                         Gurtam             1.0\n",
              "262                          total           536.0\n",
              "\n",
              "[263 rows x 2 columns]"
            ],
            "text/html": [
              "\n",
              "  <div id=\"df-5901a1a2-b437-4733-82a5-873804b61b88\" class=\"colab-df-container\">\n",
              "    <div>\n",
              "<style scoped>\n",
              "    .dataframe tbody tr th:only-of-type {\n",
              "        vertical-align: middle;\n",
              "    }\n",
              "\n",
              "    .dataframe tbody tr th {\n",
              "        vertical-align: top;\n",
              "    }\n",
              "\n",
              "    .dataframe thead th {\n",
              "        text-align: right;\n",
              "    }\n",
              "</style>\n",
              "<table border=\"1\" class=\"dataframe\">\n",
              "  <thead>\n",
              "    <tr style=\"text-align: right;\">\n",
              "      <th></th>\n",
              "      <th>employer</th>\n",
              "      <th>data_vacancies</th>\n",
              "    </tr>\n",
              "  </thead>\n",
              "  <tbody>\n",
              "    <tr>\n",
              "      <th>0</th>\n",
              "      <td>СБЕР</td>\n",
              "      <td>39.0</td>\n",
              "    </tr>\n",
              "    <tr>\n",
              "      <th>1</th>\n",
              "      <td>Bell Integrator</td>\n",
              "      <td>25.0</td>\n",
              "    </tr>\n",
              "    <tr>\n",
              "      <th>2</th>\n",
              "      <td>Банк ВТБ (ПАО)</td>\n",
              "      <td>18.0</td>\n",
              "    </tr>\n",
              "    <tr>\n",
              "      <th>3</th>\n",
              "      <td>VK</td>\n",
              "      <td>15.0</td>\n",
              "    </tr>\n",
              "    <tr>\n",
              "      <th>4</th>\n",
              "      <td>Positive Technologies</td>\n",
              "      <td>11.0</td>\n",
              "    </tr>\n",
              "    <tr>\n",
              "      <th>...</th>\n",
              "      <td>...</td>\n",
              "      <td>...</td>\n",
              "    </tr>\n",
              "    <tr>\n",
              "      <th>258</th>\n",
              "      <td>А1 (Унитарное предприятие А1)</td>\n",
              "      <td>1.0</td>\n",
              "    </tr>\n",
              "    <tr>\n",
              "      <th>259</th>\n",
              "      <td>СТ</td>\n",
              "      <td>1.0</td>\n",
              "    </tr>\n",
              "    <tr>\n",
              "      <th>260</th>\n",
              "      <td>АБСОЛЮТ БАНК</td>\n",
              "      <td>1.0</td>\n",
              "    </tr>\n",
              "    <tr>\n",
              "      <th>261</th>\n",
              "      <td>Gurtam</td>\n",
              "      <td>1.0</td>\n",
              "    </tr>\n",
              "    <tr>\n",
              "      <th>262</th>\n",
              "      <td>total</td>\n",
              "      <td>536.0</td>\n",
              "    </tr>\n",
              "  </tbody>\n",
              "</table>\n",
              "<p>263 rows × 2 columns</p>\n",
              "</div>\n",
              "    <div class=\"colab-df-buttons\">\n",
              "\n",
              "  <div class=\"colab-df-container\">\n",
              "    <button class=\"colab-df-convert\" onclick=\"convertToInteractive('df-5901a1a2-b437-4733-82a5-873804b61b88')\"\n",
              "            title=\"Convert this dataframe to an interactive table.\"\n",
              "            style=\"display:none;\">\n",
              "\n",
              "  <svg xmlns=\"http://www.w3.org/2000/svg\" height=\"24px\" viewBox=\"0 -960 960 960\">\n",
              "    <path d=\"M120-120v-720h720v720H120Zm60-500h600v-160H180v160Zm220 220h160v-160H400v160Zm0 220h160v-160H400v160ZM180-400h160v-160H180v160Zm440 0h160v-160H620v160ZM180-180h160v-160H180v160Zm440 0h160v-160H620v160Z\"/>\n",
              "  </svg>\n",
              "    </button>\n",
              "\n",
              "  <style>\n",
              "    .colab-df-container {\n",
              "      display:flex;\n",
              "      gap: 12px;\n",
              "    }\n",
              "\n",
              "    .colab-df-convert {\n",
              "      background-color: #E8F0FE;\n",
              "      border: none;\n",
              "      border-radius: 50%;\n",
              "      cursor: pointer;\n",
              "      display: none;\n",
              "      fill: #1967D2;\n",
              "      height: 32px;\n",
              "      padding: 0 0 0 0;\n",
              "      width: 32px;\n",
              "    }\n",
              "\n",
              "    .colab-df-convert:hover {\n",
              "      background-color: #E2EBFA;\n",
              "      box-shadow: 0px 1px 2px rgba(60, 64, 67, 0.3), 0px 1px 3px 1px rgba(60, 64, 67, 0.15);\n",
              "      fill: #174EA6;\n",
              "    }\n",
              "\n",
              "    .colab-df-buttons div {\n",
              "      margin-bottom: 4px;\n",
              "    }\n",
              "\n",
              "    [theme=dark] .colab-df-convert {\n",
              "      background-color: #3B4455;\n",
              "      fill: #D2E3FC;\n",
              "    }\n",
              "\n",
              "    [theme=dark] .colab-df-convert:hover {\n",
              "      background-color: #434B5C;\n",
              "      box-shadow: 0px 1px 3px 1px rgba(0, 0, 0, 0.15);\n",
              "      filter: drop-shadow(0px 1px 2px rgba(0, 0, 0, 0.3));\n",
              "      fill: #FFFFFF;\n",
              "    }\n",
              "  </style>\n",
              "\n",
              "    <script>\n",
              "      const buttonEl =\n",
              "        document.querySelector('#df-5901a1a2-b437-4733-82a5-873804b61b88 button.colab-df-convert');\n",
              "      buttonEl.style.display =\n",
              "        google.colab.kernel.accessAllowed ? 'block' : 'none';\n",
              "\n",
              "      async function convertToInteractive(key) {\n",
              "        const element = document.querySelector('#df-5901a1a2-b437-4733-82a5-873804b61b88');\n",
              "        const dataTable =\n",
              "          await google.colab.kernel.invokeFunction('convertToInteractive',\n",
              "                                                    [key], {});\n",
              "        if (!dataTable) return;\n",
              "\n",
              "        const docLinkHtml = 'Like what you see? Visit the ' +\n",
              "          '<a target=\"_blank\" href=https://colab.research.google.com/notebooks/data_table.ipynb>data table notebook</a>'\n",
              "          + ' to learn more about interactive tables.';\n",
              "        element.innerHTML = '';\n",
              "        dataTable['output_type'] = 'display_data';\n",
              "        await google.colab.output.renderOutput(dataTable, element);\n",
              "        const docLink = document.createElement('div');\n",
              "        docLink.innerHTML = docLinkHtml;\n",
              "        element.appendChild(docLink);\n",
              "      }\n",
              "    </script>\n",
              "  </div>\n",
              "\n",
              "\n",
              "<div id=\"df-270c0d30-3691-4f59-af8f-ecfe0eef1c37\">\n",
              "  <button class=\"colab-df-quickchart\" onclick=\"quickchart('df-270c0d30-3691-4f59-af8f-ecfe0eef1c37')\"\n",
              "            title=\"Suggest charts\"\n",
              "            style=\"display:none;\">\n",
              "\n",
              "<svg xmlns=\"http://www.w3.org/2000/svg\" height=\"24px\"viewBox=\"0 0 24 24\"\n",
              "     width=\"24px\">\n",
              "    <g>\n",
              "        <path d=\"M19 3H5c-1.1 0-2 .9-2 2v14c0 1.1.9 2 2 2h14c1.1 0 2-.9 2-2V5c0-1.1-.9-2-2-2zM9 17H7v-7h2v7zm4 0h-2V7h2v10zm4 0h-2v-4h2v4z\"/>\n",
              "    </g>\n",
              "</svg>\n",
              "  </button>\n",
              "\n",
              "<style>\n",
              "  .colab-df-quickchart {\n",
              "      --bg-color: #E8F0FE;\n",
              "      --fill-color: #1967D2;\n",
              "      --hover-bg-color: #E2EBFA;\n",
              "      --hover-fill-color: #174EA6;\n",
              "      --disabled-fill-color: #AAA;\n",
              "      --disabled-bg-color: #DDD;\n",
              "  }\n",
              "\n",
              "  [theme=dark] .colab-df-quickchart {\n",
              "      --bg-color: #3B4455;\n",
              "      --fill-color: #D2E3FC;\n",
              "      --hover-bg-color: #434B5C;\n",
              "      --hover-fill-color: #FFFFFF;\n",
              "      --disabled-bg-color: #3B4455;\n",
              "      --disabled-fill-color: #666;\n",
              "  }\n",
              "\n",
              "  .colab-df-quickchart {\n",
              "    background-color: var(--bg-color);\n",
              "    border: none;\n",
              "    border-radius: 50%;\n",
              "    cursor: pointer;\n",
              "    display: none;\n",
              "    fill: var(--fill-color);\n",
              "    height: 32px;\n",
              "    padding: 0;\n",
              "    width: 32px;\n",
              "  }\n",
              "\n",
              "  .colab-df-quickchart:hover {\n",
              "    background-color: var(--hover-bg-color);\n",
              "    box-shadow: 0 1px 2px rgba(60, 64, 67, 0.3), 0 1px 3px 1px rgba(60, 64, 67, 0.15);\n",
              "    fill: var(--button-hover-fill-color);\n",
              "  }\n",
              "\n",
              "  .colab-df-quickchart-complete:disabled,\n",
              "  .colab-df-quickchart-complete:disabled:hover {\n",
              "    background-color: var(--disabled-bg-color);\n",
              "    fill: var(--disabled-fill-color);\n",
              "    box-shadow: none;\n",
              "  }\n",
              "\n",
              "  .colab-df-spinner {\n",
              "    border: 2px solid var(--fill-color);\n",
              "    border-color: transparent;\n",
              "    border-bottom-color: var(--fill-color);\n",
              "    animation:\n",
              "      spin 1s steps(1) infinite;\n",
              "  }\n",
              "\n",
              "  @keyframes spin {\n",
              "    0% {\n",
              "      border-color: transparent;\n",
              "      border-bottom-color: var(--fill-color);\n",
              "      border-left-color: var(--fill-color);\n",
              "    }\n",
              "    20% {\n",
              "      border-color: transparent;\n",
              "      border-left-color: var(--fill-color);\n",
              "      border-top-color: var(--fill-color);\n",
              "    }\n",
              "    30% {\n",
              "      border-color: transparent;\n",
              "      border-left-color: var(--fill-color);\n",
              "      border-top-color: var(--fill-color);\n",
              "      border-right-color: var(--fill-color);\n",
              "    }\n",
              "    40% {\n",
              "      border-color: transparent;\n",
              "      border-right-color: var(--fill-color);\n",
              "      border-top-color: var(--fill-color);\n",
              "    }\n",
              "    60% {\n",
              "      border-color: transparent;\n",
              "      border-right-color: var(--fill-color);\n",
              "    }\n",
              "    80% {\n",
              "      border-color: transparent;\n",
              "      border-right-color: var(--fill-color);\n",
              "      border-bottom-color: var(--fill-color);\n",
              "    }\n",
              "    90% {\n",
              "      border-color: transparent;\n",
              "      border-bottom-color: var(--fill-color);\n",
              "    }\n",
              "  }\n",
              "</style>\n",
              "\n",
              "  <script>\n",
              "    async function quickchart(key) {\n",
              "      const quickchartButtonEl =\n",
              "        document.querySelector('#' + key + ' button');\n",
              "      quickchartButtonEl.disabled = true;  // To prevent multiple clicks.\n",
              "      quickchartButtonEl.classList.add('colab-df-spinner');\n",
              "      try {\n",
              "        const charts = await google.colab.kernel.invokeFunction(\n",
              "            'suggestCharts', [key], {});\n",
              "      } catch (error) {\n",
              "        console.error('Error during call to suggestCharts:', error);\n",
              "      }\n",
              "      quickchartButtonEl.classList.remove('colab-df-spinner');\n",
              "      quickchartButtonEl.classList.add('colab-df-quickchart-complete');\n",
              "    }\n",
              "    (() => {\n",
              "      let quickchartButtonEl =\n",
              "        document.querySelector('#df-270c0d30-3691-4f59-af8f-ecfe0eef1c37 button');\n",
              "      quickchartButtonEl.style.display =\n",
              "        google.colab.kernel.accessAllowed ? 'block' : 'none';\n",
              "    })();\n",
              "  </script>\n",
              "</div>\n",
              "    </div>\n",
              "  </div>\n"
            ],
            "application/vnd.google.colaboratory.intrinsic+json": {
              "type": "dataframe",
              "variable_name": "df",
              "summary": "{\n  \"name\": \"df\",\n  \"rows\": 263,\n  \"fields\": [\n    {\n      \"column\": \"employer\",\n      \"properties\": {\n        \"dtype\": \"string\",\n        \"num_unique_values\": 263,\n        \"samples\": [\n          \"\\u0421\\u0442\\u0430\\u043d\\u0434\\u0430\\u0440\\u0442\\u041f\\u0440\\u043e\\u0435\\u043a\\u0442\",\n          \"\\u0412\\u0438\\u0436\\u043d\\u041b\\u0430\\u0431\\u0441 (VisionLabs)\",\n          \"\\u0421\\u0422\"\n        ],\n        \"semantic_type\": \"\",\n        \"description\": \"\"\n      }\n    },\n    {\n      \"column\": \"data_vacancies\",\n      \"properties\": {\n        \"dtype\": \"number\",\n        \"std\": 33.092426608018194,\n        \"min\": 1.0,\n        \"max\": 536.0,\n        \"num_unique_values\": 15,\n        \"samples\": [\n          5.0,\n          3.0,\n          39.0\n        ],\n        \"semantic_type\": \"\",\n        \"description\": \"\"\n      }\n    }\n  ]\n}"
            }
          },
          "metadata": {},
          "execution_count": 73
        }
      ]
    },
    {
      "cell_type": "markdown",
      "source": [
        "2. Выведем среднее количество вакансий на каждого работодателя."
      ],
      "metadata": {
        "id": "h_CTBihfd2uZ"
      },
      "id": "h_CTBihfd2uZ"
    },
    {
      "cell_type": "code",
      "source": [
        "# среднее количесиво вакансий для DS на каждого работодателя\n",
        "query_2 = '''with t as\n",
        "            (select\n",
        "            e.name employer,\n",
        "            count(*) data_vacancies\n",
        "            from vacancies v\n",
        "            join employers e on e.id = v.employer_id\n",
        "            where v.name ilike '%data scientist%'\n",
        "               or v.name ilike '%data science%'\n",
        "               or v.name ilike '%исследователь данных%'\n",
        "               or v.name ilike '%ML%' and v.name not ilike '%HTML%'\n",
        "               or v.name ilike '%machine learning%'\n",
        "               or v.name ilike '%машинн%обучен%'\n",
        "            group by e.name\n",
        "            order by 2 desc\n",
        "            )\n",
        "\n",
        "            select\n",
        "            round(avg(t.data_vacancies), 2) avg_data_vacancies\n",
        "            from t\n",
        "         '''"
      ],
      "metadata": {
        "id": "h7XLXFUAd661"
      },
      "id": "h7XLXFUAd661",
      "execution_count": 74,
      "outputs": []
    },
    {
      "cell_type": "code",
      "source": [
        "# результат запроса\n",
        "df = pd.read_sql_query(query_2, connection)\n",
        "df"
      ],
      "metadata": {
        "colab": {
          "base_uri": "https://localhost:8080/",
          "height": 80
        },
        "id": "mx9846ssd9xd",
        "outputId": "a22f0ebd-0f8c-40fc-b858-c24b568ec177"
      },
      "id": "mx9846ssd9xd",
      "execution_count": 75,
      "outputs": [
        {
          "output_type": "execute_result",
          "data": {
            "text/plain": [
              "   avg_data_vacancies\n",
              "0                2.05"
            ],
            "text/html": [
              "\n",
              "  <div id=\"df-bc414447-993c-42f1-9518-8f6bce66c186\" class=\"colab-df-container\">\n",
              "    <div>\n",
              "<style scoped>\n",
              "    .dataframe tbody tr th:only-of-type {\n",
              "        vertical-align: middle;\n",
              "    }\n",
              "\n",
              "    .dataframe tbody tr th {\n",
              "        vertical-align: top;\n",
              "    }\n",
              "\n",
              "    .dataframe thead th {\n",
              "        text-align: right;\n",
              "    }\n",
              "</style>\n",
              "<table border=\"1\" class=\"dataframe\">\n",
              "  <thead>\n",
              "    <tr style=\"text-align: right;\">\n",
              "      <th></th>\n",
              "      <th>avg_data_vacancies</th>\n",
              "    </tr>\n",
              "  </thead>\n",
              "  <tbody>\n",
              "    <tr>\n",
              "      <th>0</th>\n",
              "      <td>2.05</td>\n",
              "    </tr>\n",
              "  </tbody>\n",
              "</table>\n",
              "</div>\n",
              "    <div class=\"colab-df-buttons\">\n",
              "\n",
              "  <div class=\"colab-df-container\">\n",
              "    <button class=\"colab-df-convert\" onclick=\"convertToInteractive('df-bc414447-993c-42f1-9518-8f6bce66c186')\"\n",
              "            title=\"Convert this dataframe to an interactive table.\"\n",
              "            style=\"display:none;\">\n",
              "\n",
              "  <svg xmlns=\"http://www.w3.org/2000/svg\" height=\"24px\" viewBox=\"0 -960 960 960\">\n",
              "    <path d=\"M120-120v-720h720v720H120Zm60-500h600v-160H180v160Zm220 220h160v-160H400v160Zm0 220h160v-160H400v160ZM180-400h160v-160H180v160Zm440 0h160v-160H620v160ZM180-180h160v-160H180v160Zm440 0h160v-160H620v160Z\"/>\n",
              "  </svg>\n",
              "    </button>\n",
              "\n",
              "  <style>\n",
              "    .colab-df-container {\n",
              "      display:flex;\n",
              "      gap: 12px;\n",
              "    }\n",
              "\n",
              "    .colab-df-convert {\n",
              "      background-color: #E8F0FE;\n",
              "      border: none;\n",
              "      border-radius: 50%;\n",
              "      cursor: pointer;\n",
              "      display: none;\n",
              "      fill: #1967D2;\n",
              "      height: 32px;\n",
              "      padding: 0 0 0 0;\n",
              "      width: 32px;\n",
              "    }\n",
              "\n",
              "    .colab-df-convert:hover {\n",
              "      background-color: #E2EBFA;\n",
              "      box-shadow: 0px 1px 2px rgba(60, 64, 67, 0.3), 0px 1px 3px 1px rgba(60, 64, 67, 0.15);\n",
              "      fill: #174EA6;\n",
              "    }\n",
              "\n",
              "    .colab-df-buttons div {\n",
              "      margin-bottom: 4px;\n",
              "    }\n",
              "\n",
              "    [theme=dark] .colab-df-convert {\n",
              "      background-color: #3B4455;\n",
              "      fill: #D2E3FC;\n",
              "    }\n",
              "\n",
              "    [theme=dark] .colab-df-convert:hover {\n",
              "      background-color: #434B5C;\n",
              "      box-shadow: 0px 1px 3px 1px rgba(0, 0, 0, 0.15);\n",
              "      filter: drop-shadow(0px 1px 2px rgba(0, 0, 0, 0.3));\n",
              "      fill: #FFFFFF;\n",
              "    }\n",
              "  </style>\n",
              "\n",
              "    <script>\n",
              "      const buttonEl =\n",
              "        document.querySelector('#df-bc414447-993c-42f1-9518-8f6bce66c186 button.colab-df-convert');\n",
              "      buttonEl.style.display =\n",
              "        google.colab.kernel.accessAllowed ? 'block' : 'none';\n",
              "\n",
              "      async function convertToInteractive(key) {\n",
              "        const element = document.querySelector('#df-bc414447-993c-42f1-9518-8f6bce66c186');\n",
              "        const dataTable =\n",
              "          await google.colab.kernel.invokeFunction('convertToInteractive',\n",
              "                                                    [key], {});\n",
              "        if (!dataTable) return;\n",
              "\n",
              "        const docLinkHtml = 'Like what you see? Visit the ' +\n",
              "          '<a target=\"_blank\" href=https://colab.research.google.com/notebooks/data_table.ipynb>data table notebook</a>'\n",
              "          + ' to learn more about interactive tables.';\n",
              "        element.innerHTML = '';\n",
              "        dataTable['output_type'] = 'display_data';\n",
              "        await google.colab.output.renderOutput(dataTable, element);\n",
              "        const docLink = document.createElement('div');\n",
              "        docLink.innerHTML = docLinkHtml;\n",
              "        element.appendChild(docLink);\n",
              "      }\n",
              "    </script>\n",
              "  </div>\n",
              "\n",
              "    </div>\n",
              "  </div>\n"
            ],
            "application/vnd.google.colaboratory.intrinsic+json": {
              "type": "dataframe",
              "variable_name": "df",
              "summary": "{\n  \"name\": \"df\",\n  \"rows\": 1,\n  \"fields\": [\n    {\n      \"column\": \"avg_data_vacancies\",\n      \"properties\": {\n        \"dtype\": \"number\",\n        \"std\": null,\n        \"min\": 2.05,\n        \"max\": 2.05,\n        \"num_unique_values\": 1,\n        \"samples\": [\n          2.05\n        ],\n        \"semantic_type\": \"\",\n        \"description\": \"\"\n      }\n    }\n  ]\n}"
            }
          },
          "metadata": {},
          "execution_count": 75
        }
      ]
    },
    {
      "cell_type": "markdown",
      "source": [
        "3. Посчитаем среднюю зарплату для каждого уникального типа требуемого опыта работы по всем вакансиям, чтобы сравнить со значениями зарплат для DS"
      ],
      "metadata": {
        "id": "xuNbvFZ9eCPu"
      },
      "id": "xuNbvFZ9eCPu"
    },
    {
      "cell_type": "code",
      "source": [
        "# средняя зарплата для каждого уникального типа требуемого опыта\n",
        "query_3 = '''select\n",
        "               distinct experience,\n",
        "               round(avg(coalesce((salary_from+salary_to)/2, salary_from, salary_to)))\n",
        "               from vacancies\n",
        "               group by 1\n",
        "            '''"
      ],
      "metadata": {
        "id": "YXArj9cceERe"
      },
      "id": "YXArj9cceERe",
      "execution_count": 77,
      "outputs": []
    },
    {
      "cell_type": "code",
      "source": [
        "# результат запроса\n",
        "df = pd.read_sql_query(query_3, connection)\n",
        "df"
      ],
      "metadata": {
        "colab": {
          "base_uri": "https://localhost:8080/",
          "height": 174
        },
        "id": "WQv6ev6yeG2v",
        "outputId": "3fb1dbe1-b53b-4b8a-f7d1-ae02ce1f8abb"
      },
      "id": "WQv6ev6yeG2v",
      "execution_count": 78,
      "outputs": [
        {
          "output_type": "execute_result",
          "data": {
            "text/plain": [
              "           experience     round\n",
              "0         Более 6 лет  166256.0\n",
              "1           Нет опыта   40472.0\n",
              "2  От 1 года до 3 лет   76541.0\n",
              "3       От 3 до 6 лет  133211.0"
            ],
            "text/html": [
              "\n",
              "  <div id=\"df-a0659b42-340d-4bda-b7c4-b6062bd95415\" class=\"colab-df-container\">\n",
              "    <div>\n",
              "<style scoped>\n",
              "    .dataframe tbody tr th:only-of-type {\n",
              "        vertical-align: middle;\n",
              "    }\n",
              "\n",
              "    .dataframe tbody tr th {\n",
              "        vertical-align: top;\n",
              "    }\n",
              "\n",
              "    .dataframe thead th {\n",
              "        text-align: right;\n",
              "    }\n",
              "</style>\n",
              "<table border=\"1\" class=\"dataframe\">\n",
              "  <thead>\n",
              "    <tr style=\"text-align: right;\">\n",
              "      <th></th>\n",
              "      <th>experience</th>\n",
              "      <th>round</th>\n",
              "    </tr>\n",
              "  </thead>\n",
              "  <tbody>\n",
              "    <tr>\n",
              "      <th>0</th>\n",
              "      <td>Более 6 лет</td>\n",
              "      <td>166256.0</td>\n",
              "    </tr>\n",
              "    <tr>\n",
              "      <th>1</th>\n",
              "      <td>Нет опыта</td>\n",
              "      <td>40472.0</td>\n",
              "    </tr>\n",
              "    <tr>\n",
              "      <th>2</th>\n",
              "      <td>От 1 года до 3 лет</td>\n",
              "      <td>76541.0</td>\n",
              "    </tr>\n",
              "    <tr>\n",
              "      <th>3</th>\n",
              "      <td>От 3 до 6 лет</td>\n",
              "      <td>133211.0</td>\n",
              "    </tr>\n",
              "  </tbody>\n",
              "</table>\n",
              "</div>\n",
              "    <div class=\"colab-df-buttons\">\n",
              "\n",
              "  <div class=\"colab-df-container\">\n",
              "    <button class=\"colab-df-convert\" onclick=\"convertToInteractive('df-a0659b42-340d-4bda-b7c4-b6062bd95415')\"\n",
              "            title=\"Convert this dataframe to an interactive table.\"\n",
              "            style=\"display:none;\">\n",
              "\n",
              "  <svg xmlns=\"http://www.w3.org/2000/svg\" height=\"24px\" viewBox=\"0 -960 960 960\">\n",
              "    <path d=\"M120-120v-720h720v720H120Zm60-500h600v-160H180v160Zm220 220h160v-160H400v160Zm0 220h160v-160H400v160ZM180-400h160v-160H180v160Zm440 0h160v-160H620v160ZM180-180h160v-160H180v160Zm440 0h160v-160H620v160Z\"/>\n",
              "  </svg>\n",
              "    </button>\n",
              "\n",
              "  <style>\n",
              "    .colab-df-container {\n",
              "      display:flex;\n",
              "      gap: 12px;\n",
              "    }\n",
              "\n",
              "    .colab-df-convert {\n",
              "      background-color: #E8F0FE;\n",
              "      border: none;\n",
              "      border-radius: 50%;\n",
              "      cursor: pointer;\n",
              "      display: none;\n",
              "      fill: #1967D2;\n",
              "      height: 32px;\n",
              "      padding: 0 0 0 0;\n",
              "      width: 32px;\n",
              "    }\n",
              "\n",
              "    .colab-df-convert:hover {\n",
              "      background-color: #E2EBFA;\n",
              "      box-shadow: 0px 1px 2px rgba(60, 64, 67, 0.3), 0px 1px 3px 1px rgba(60, 64, 67, 0.15);\n",
              "      fill: #174EA6;\n",
              "    }\n",
              "\n",
              "    .colab-df-buttons div {\n",
              "      margin-bottom: 4px;\n",
              "    }\n",
              "\n",
              "    [theme=dark] .colab-df-convert {\n",
              "      background-color: #3B4455;\n",
              "      fill: #D2E3FC;\n",
              "    }\n",
              "\n",
              "    [theme=dark] .colab-df-convert:hover {\n",
              "      background-color: #434B5C;\n",
              "      box-shadow: 0px 1px 3px 1px rgba(0, 0, 0, 0.15);\n",
              "      filter: drop-shadow(0px 1px 2px rgba(0, 0, 0, 0.3));\n",
              "      fill: #FFFFFF;\n",
              "    }\n",
              "  </style>\n",
              "\n",
              "    <script>\n",
              "      const buttonEl =\n",
              "        document.querySelector('#df-a0659b42-340d-4bda-b7c4-b6062bd95415 button.colab-df-convert');\n",
              "      buttonEl.style.display =\n",
              "        google.colab.kernel.accessAllowed ? 'block' : 'none';\n",
              "\n",
              "      async function convertToInteractive(key) {\n",
              "        const element = document.querySelector('#df-a0659b42-340d-4bda-b7c4-b6062bd95415');\n",
              "        const dataTable =\n",
              "          await google.colab.kernel.invokeFunction('convertToInteractive',\n",
              "                                                    [key], {});\n",
              "        if (!dataTable) return;\n",
              "\n",
              "        const docLinkHtml = 'Like what you see? Visit the ' +\n",
              "          '<a target=\"_blank\" href=https://colab.research.google.com/notebooks/data_table.ipynb>data table notebook</a>'\n",
              "          + ' to learn more about interactive tables.';\n",
              "        element.innerHTML = '';\n",
              "        dataTable['output_type'] = 'display_data';\n",
              "        await google.colab.output.renderOutput(dataTable, element);\n",
              "        const docLink = document.createElement('div');\n",
              "        docLink.innerHTML = docLinkHtml;\n",
              "        element.appendChild(docLink);\n",
              "      }\n",
              "    </script>\n",
              "  </div>\n",
              "\n",
              "\n",
              "<div id=\"df-ecc690f1-58e7-4536-9a63-6adcad9d1ca1\">\n",
              "  <button class=\"colab-df-quickchart\" onclick=\"quickchart('df-ecc690f1-58e7-4536-9a63-6adcad9d1ca1')\"\n",
              "            title=\"Suggest charts\"\n",
              "            style=\"display:none;\">\n",
              "\n",
              "<svg xmlns=\"http://www.w3.org/2000/svg\" height=\"24px\"viewBox=\"0 0 24 24\"\n",
              "     width=\"24px\">\n",
              "    <g>\n",
              "        <path d=\"M19 3H5c-1.1 0-2 .9-2 2v14c0 1.1.9 2 2 2h14c1.1 0 2-.9 2-2V5c0-1.1-.9-2-2-2zM9 17H7v-7h2v7zm4 0h-2V7h2v10zm4 0h-2v-4h2v4z\"/>\n",
              "    </g>\n",
              "</svg>\n",
              "  </button>\n",
              "\n",
              "<style>\n",
              "  .colab-df-quickchart {\n",
              "      --bg-color: #E8F0FE;\n",
              "      --fill-color: #1967D2;\n",
              "      --hover-bg-color: #E2EBFA;\n",
              "      --hover-fill-color: #174EA6;\n",
              "      --disabled-fill-color: #AAA;\n",
              "      --disabled-bg-color: #DDD;\n",
              "  }\n",
              "\n",
              "  [theme=dark] .colab-df-quickchart {\n",
              "      --bg-color: #3B4455;\n",
              "      --fill-color: #D2E3FC;\n",
              "      --hover-bg-color: #434B5C;\n",
              "      --hover-fill-color: #FFFFFF;\n",
              "      --disabled-bg-color: #3B4455;\n",
              "      --disabled-fill-color: #666;\n",
              "  }\n",
              "\n",
              "  .colab-df-quickchart {\n",
              "    background-color: var(--bg-color);\n",
              "    border: none;\n",
              "    border-radius: 50%;\n",
              "    cursor: pointer;\n",
              "    display: none;\n",
              "    fill: var(--fill-color);\n",
              "    height: 32px;\n",
              "    padding: 0;\n",
              "    width: 32px;\n",
              "  }\n",
              "\n",
              "  .colab-df-quickchart:hover {\n",
              "    background-color: var(--hover-bg-color);\n",
              "    box-shadow: 0 1px 2px rgba(60, 64, 67, 0.3), 0 1px 3px 1px rgba(60, 64, 67, 0.15);\n",
              "    fill: var(--button-hover-fill-color);\n",
              "  }\n",
              "\n",
              "  .colab-df-quickchart-complete:disabled,\n",
              "  .colab-df-quickchart-complete:disabled:hover {\n",
              "    background-color: var(--disabled-bg-color);\n",
              "    fill: var(--disabled-fill-color);\n",
              "    box-shadow: none;\n",
              "  }\n",
              "\n",
              "  .colab-df-spinner {\n",
              "    border: 2px solid var(--fill-color);\n",
              "    border-color: transparent;\n",
              "    border-bottom-color: var(--fill-color);\n",
              "    animation:\n",
              "      spin 1s steps(1) infinite;\n",
              "  }\n",
              "\n",
              "  @keyframes spin {\n",
              "    0% {\n",
              "      border-color: transparent;\n",
              "      border-bottom-color: var(--fill-color);\n",
              "      border-left-color: var(--fill-color);\n",
              "    }\n",
              "    20% {\n",
              "      border-color: transparent;\n",
              "      border-left-color: var(--fill-color);\n",
              "      border-top-color: var(--fill-color);\n",
              "    }\n",
              "    30% {\n",
              "      border-color: transparent;\n",
              "      border-left-color: var(--fill-color);\n",
              "      border-top-color: var(--fill-color);\n",
              "      border-right-color: var(--fill-color);\n",
              "    }\n",
              "    40% {\n",
              "      border-color: transparent;\n",
              "      border-right-color: var(--fill-color);\n",
              "      border-top-color: var(--fill-color);\n",
              "    }\n",
              "    60% {\n",
              "      border-color: transparent;\n",
              "      border-right-color: var(--fill-color);\n",
              "    }\n",
              "    80% {\n",
              "      border-color: transparent;\n",
              "      border-right-color: var(--fill-color);\n",
              "      border-bottom-color: var(--fill-color);\n",
              "    }\n",
              "    90% {\n",
              "      border-color: transparent;\n",
              "      border-bottom-color: var(--fill-color);\n",
              "    }\n",
              "  }\n",
              "</style>\n",
              "\n",
              "  <script>\n",
              "    async function quickchart(key) {\n",
              "      const quickchartButtonEl =\n",
              "        document.querySelector('#' + key + ' button');\n",
              "      quickchartButtonEl.disabled = true;  // To prevent multiple clicks.\n",
              "      quickchartButtonEl.classList.add('colab-df-spinner');\n",
              "      try {\n",
              "        const charts = await google.colab.kernel.invokeFunction(\n",
              "            'suggestCharts', [key], {});\n",
              "      } catch (error) {\n",
              "        console.error('Error during call to suggestCharts:', error);\n",
              "      }\n",
              "      quickchartButtonEl.classList.remove('colab-df-spinner');\n",
              "      quickchartButtonEl.classList.add('colab-df-quickchart-complete');\n",
              "    }\n",
              "    (() => {\n",
              "      let quickchartButtonEl =\n",
              "        document.querySelector('#df-ecc690f1-58e7-4536-9a63-6adcad9d1ca1 button');\n",
              "      quickchartButtonEl.style.display =\n",
              "        google.colab.kernel.accessAllowed ? 'block' : 'none';\n",
              "    })();\n",
              "  </script>\n",
              "</div>\n",
              "    </div>\n",
              "  </div>\n"
            ],
            "application/vnd.google.colaboratory.intrinsic+json": {
              "type": "dataframe",
              "variable_name": "df",
              "summary": "{\n  \"name\": \"df\",\n  \"rows\": 4,\n  \"fields\": [\n    {\n      \"column\": \"experience\",\n      \"properties\": {\n        \"dtype\": \"string\",\n        \"num_unique_values\": 4,\n        \"samples\": [\n          \"\\u041d\\u0435\\u0442 \\u043e\\u043f\\u044b\\u0442\\u0430\",\n          \"\\u041e\\u0442 3 \\u0434\\u043e 6 \\u043b\\u0435\\u0442\",\n          \"\\u0411\\u043e\\u043b\\u0435\\u0435 6 \\u043b\\u0435\\u0442\"\n        ],\n        \"semantic_type\": \"\",\n        \"description\": \"\"\n      }\n    },\n    {\n      \"column\": \"round\",\n      \"properties\": {\n        \"dtype\": \"number\",\n        \"std\": 56328.90886569702,\n        \"min\": 40472.0,\n        \"max\": 166256.0,\n        \"num_unique_values\": 4,\n        \"samples\": [\n          40472.0,\n          133211.0,\n          166256.0\n        ],\n        \"semantic_type\": \"\",\n        \"description\": \"\"\n      }\n    }\n  ]\n}"
            }
          },
          "metadata": {},
          "execution_count": 78
        }
      ]
    },
    {
      "cell_type": "code",
      "source": [
        "# закрываем соединение\n",
        "connection.close()"
      ],
      "metadata": {
        "id": "MOX3b72KeIYb"
      },
      "id": "MOX3b72KeIYb",
      "execution_count": 79,
      "outputs": []
    },
    {
      "cell_type": "markdown",
      "source": [
        "## На основе представленных данных можно сделать следующие выводы по вакансиям в сфере дата-сайентистов (DS):\n",
        "\n",
        "Количество вакансий по работодателям:\n",
        "\n",
        "Всего в сфере DS имеется 536 вакансий, распределенных среди различных работодателей. Наиболее активные работодатели включают СБЕР (39 вакансий), Bell Integrator (25 вакансий) и Банк ВТБ (18 вакансий). Это может указывать на высокую заинтересованность этих компаний в привлечении специалистов в области данных.\n",
        "\n",
        "Среднее количество вакансий на работодателя:\n",
        "\n",
        "В среднем на каждого работодателя приходится 2,05 вакансии. Это значение говорит о том, что большинство работодателей предлагают ограниченное количество вакансий в данной сфере, что может быть связано с узкой специализацией или требованиями к кандидатам.\n",
        "\n",
        "Сравнение зарплат по опыту:\n",
        "\n",
        "Средняя зарплата для всех вакансий по различным уровням опыта составляет:\n",
        "\n",
        "Нет опыта: 40,472 рублей\n",
        "От 1 года до 3 лет: 76,541 рублей\n",
        "От 3 до 6 лет: 133,211 рублей\n",
        "Более 6 лет: 166,256 рублей\n",
        "\n",
        "В то же время, средняя зарплата для вакансий в сфере DS значительно выше:\n",
        "\n",
        "Нет опыта: 74,643 рублей\n",
        "От 1 года до 3 лет: 139,675 рублей\n",
        "От 3 до 6 лет: 243,115 рублей\n",
        "\n",
        "Это свидетельствует о том, что вакансии в сфере DS предлагают более конкурентоспособные условия оплаты труда по сравнению с общим рынком.\n",
        "\n",
        "Выводы: Рынок вакансий для дата-сайентистов демонстрирует активный спрос на специалистов, особенно со стороны крупных компаний. Зарплаты в данной области значительно превышают средние значения для других сфер, что делает профессию привлекательной для соискателей. Однако, среднее количество вакансий на работодателя относительно невелико, что может указывать на узкую специализацию и высокие требования к кандидатам. Это также может означать, что несмотря на общее количество вакансий, конкуренция за позиции может быть высокой."
      ],
      "metadata": {
        "id": "9Dk3uoQofNtE"
      },
      "id": "9Dk3uoQofNtE"
    }
  ],
  "metadata": {
    "colab": {
      "collapsed_sections": [
        "8d62a9f3-f64e-4fe7-bdac-c4dffa16155e"
      ],
      "provenance": []
    },
    "kernelspec": {
      "display_name": "Python 3 (ipykernel)",
      "language": "python",
      "name": "python3"
    },
    "language_info": {
      "codemirror_mode": {
        "name": "ipython",
        "version": 3
      },
      "file_extension": ".py",
      "mimetype": "text/x-python",
      "name": "python",
      "nbconvert_exporter": "python",
      "pygments_lexer": "ipython3",
      "version": "3.9.7"
    }
  },
  "nbformat": 4,
  "nbformat_minor": 5
}